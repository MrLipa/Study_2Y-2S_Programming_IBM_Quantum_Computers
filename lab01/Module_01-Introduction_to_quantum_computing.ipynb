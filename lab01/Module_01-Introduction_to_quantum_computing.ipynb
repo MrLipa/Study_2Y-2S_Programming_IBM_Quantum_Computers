{
 "cells": [
  {
   "cell_type": "markdown",
   "metadata": {},
   "source": [
    "# Learning resources:\n",
    "\n",
    "* https://docs.quantum-computing.ibm.com/\n",
    "* https://learning.quantum-computing.ibm.com/"
   ]
  },
  {
   "cell_type": "markdown",
   "metadata": {},
   "source": [
    "# Overview of quantum composer\n",
    "Access composer at https://quantum-computing.ibm.com/composer"
   ]
  },
  {
   "cell_type": "markdown",
   "metadata": {},
   "source": [
    "# HOMEWORK\n",
    "\n",
    "1. Read a good article on quantum computing by John Preskill: https://arxiv.org/pdf/1801.00862.pdf\n",
    "1. Install Qiskit and Jupyter Notebook on you computer at home. Best approach is to install Anaconda and then Qiskit (google for qiskit installation). Using Jupyter Notebook run this sample program to prove that it works:\n",
    "    ```\n",
    "    from qiskit import *\n",
    "    from qiskit.tools.visualization import plot_histogram\n",
    "    %matplotlib inline\n",
    "    circuit = QuantumCircuit(2, 2)\n",
    "    circuit.h(0)\n",
    "    circuit.cx(0, 1)\n",
    "    circuit.measure(0, 0)\n",
    "    circuit.measure(1, 1)\n",
    "    backend = BasicAer.get_backend('qasm_simulator')\n",
    "    job = execute(circuit, backend=backend)\n",
    "    result = job.result()\n",
    "    plot_histogram(result.get_counts())\n",
    "    ```\n",
    "1. Read about Deutsch algorithm and try to understand how it works. This is a simple algorithm demonstrating quantum computer benefits. You can find a lot of resources online, including videos on this. So, please explore.\n",
    "1. Using Quantum Composer, create a quantum circuit resulting in superposition of 2 basis states being binary representation of ASCII code for the first letters of your name and surname. Run the circuit on a QASM simulator and prove that it generates proper superposition. Send me the screenshot of the circuit by email.\n",
    "1. Check which bit in your two bit strings is fixed. Put it aside to add later. Limit your superposition bit strings to remaining 7 bits only. Then run the circuit again on a simulator and a real quantum device adding the 8th bit in post processing. Compare the results between simulator and real device. Send me the screenshot of result by email."
   ]
  }
 ],
 "metadata": {
  "kernelspec": {
   "display_name": "Python 3 (ipykernel)",
   "language": "python",
   "name": "python3"
  },
  "language_info": {
   "codemirror_mode": {
    "name": "ipython",
    "version": 3
   },
   "file_extension": ".py",
   "mimetype": "text/x-python",
   "name": "python",
   "nbconvert_exporter": "python",
   "pygments_lexer": "ipython3",
   "version": "3.11.4"
  }
 },
 "nbformat": 4,
 "nbformat_minor": 2
}
