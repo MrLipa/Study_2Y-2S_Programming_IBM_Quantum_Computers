{
 "cells": [
  {
   "cell_type": "markdown",
   "metadata": {
    "slideshow": {
     "slide_type": "slide"
    }
   },
   "source": [
    "## Plan of the module 2:\n",
    "\n",
    "1. Deutsch algorithm overview\n",
    "1. Deutsch algorithm - implementation using quantum composer\n",
    "1. Deutsch-Jozsa algorithm and it's implementation using quantum composer\n",
    "1. Introduction to Qiskit with exercises\n",
    "1. Homework"
   ]
  },
  {
   "cell_type": "markdown",
   "metadata": {},
   "source": [
    "# Deutsch algorithm\n",
    "* Theoretical explanation and proof.\n",
    "* implementation in quantum composer."
   ]
  },
  {
   "cell_type": "markdown",
   "metadata": {},
   "source": [
    "# Deutsch-Jozsa algorithm"
   ]
  },
  {
   "cell_type": "markdown",
   "metadata": {},
   "source": [
    "In a case of 2 input qubits, we have 16 possible binary functions.\n",
    "Each of them gives 0 or 1 for one of 4 possible input sequences: 00, 01, 10, 11.\n",
    "\n",
    "We'll use quantum composer to implement Deutsch-Jozsa algorithms for various Oracle functions."
   ]
  },
  {
   "cell_type": "markdown",
   "metadata": {},
   "source": [
    "Let's implement Deutch-Jozsa function which assignes 0,1,1,0 to each of the possible input sequences of two bits (respectively 00, 01, 10, 11). \n",
    "\n",
    "This is the function of adding modulo 2."
   ]
  },
  {
   "attachments": {
    "Module_1_Deutsch-Jozsa_balanced_0110.png": {
     "image/png": "[encoded data removed]"
    }
   },
   "cell_type": "markdown",
   "metadata": {},
   "source": [
    "![Module_1_Deutsch-Jozsa_balanced_0110.png](attachment:Module_1_Deutsch-Jozsa_balanced_0110.png)"
   ]
  },
  {
   "cell_type": "markdown",
   "metadata": {},
   "source": [
    "## Exercise 2.1: \n",
    "* Create the above circuit in quantum composer\n",
    "* Verify based on the results of running this circuit, that the oracle function is balanced\n",
    "* Prove, that the two CNOT gates indeed implement actually the 0110 function (adding modulo 2)"
   ]
  },
  {
   "cell_type": "markdown",
   "metadata": {},
   "source": [
    "## Exercise 2.2: \n",
    "Create a Deutsch-Jozsa circuit where oracle function acting on two qubits has values 0,1,0,1 respectively for 00, 01, 10, 11 as input."
   ]
  },
  {
   "cell_type": "markdown",
   "metadata": {},
   "source": [
    "## Exercise 2.3:\n",
    "Create Deutsch-Jozsa circuit implementing the two possible constant functions as an oracle."
   ]
  },
  {
   "cell_type": "markdown",
   "metadata": {},
   "source": [
    "# Introduction to Qiskit"
   ]
  },
  {
   "cell_type": "markdown",
   "metadata": {
    "slideshow": {
     "slide_type": "slide"
    }
   },
   "source": [
    "#### Programming SDKs for quantum computers (QSDKs) that exist today:\n",
    "1. IBM - <b>Qiskit</b> (Python, https://github.com/Qiskit/)\n",
    "2. Google - <b>Cirq</b> (Python, https://github.com/quantumlib/Cirq)\n",
    "3. Rigetti - <b>PyQuil</b> (Python, https://github.com/rigetti/pyquil)\n",
    "4. Microsoft - <b>Microsoft Quantum Development Kit</b> (Q#, https://github.com/microsoft/Quantum)\n",
    "5. ETH Zurich - <b>Project Q</b> (Python, https://github.com/ProjectQ-Framework/ProjectQ)"
   ]
  },
  {
   "cell_type": "markdown",
   "metadata": {
    "slideshow": {
     "slide_type": "fragment"
    }
   },
   "source": [
    "#### Quantum Open Source Foundation (QOSF): [https://qosf.org/](https://qosf.org/)"
   ]
  },
  {
   "cell_type": "markdown",
   "metadata": {
    "slideshow": {
     "slide_type": "slide"
    }
   },
   "source": [
    "## References - or from where to learn:\n",
    "\n",
    "* [https://github.com/qiskit](https://github.com/qiskit)\n",
    "\n",
    "* [https://qiskit.org/](https://qiskit.org/)\n",
    "    * In particular [https://qiskit.org/textbook](https://qiskit.org/textbook)\n",
    "    * and https://qiskit.org/textbook-beta/\n",
    "    * In general [https://qiskit.org/learn/](https://qiskit.org/learn/)\n",
    "\n",
    "* [https://qiskit.org/documentation/](https://qiskit.org/documentation/)\n",
    "\n",
    "* [Qiskit documentation tutorials](https://qiskit.org/documentation/tutorials/circuits/)\n",
    "\n",
    "* finally, if you like to learn from YouTube ;) - https://www.youtube.com/c/qiskit\n"
   ]
  },
  {
   "cell_type": "code",
   "execution_count": 19,
   "metadata": {
    "scrolled": false,
    "slideshow": {
     "slide_type": "slide"
    }
   },
   "outputs": [
    {
     "data": {
      "text/html": [
       "<h3>Version Information</h3><table><tr><th>Software</th><th>Version</th></tr><tr><td><code>qiskit</code></td><td>0.45.0</td></tr><tr><td><code>qiskit_aer</code></td><td>0.12.2</td></tr><tr><td><code>qiskit_ibm_provider</code></td><td>0.6.3</td></tr><tr><th colspan='2'>System information</th></tr><tr><td>Python version</td><td>3.10.8</td></tr><tr><td>Python compiler</td><td>MSC v.1916 64 bit (AMD64)</td></tr><tr><td>Python build</td><td>main, Nov 24 2022 14:07:00</td></tr><tr><td>OS</td><td>Windows</td></tr><tr><td>CPUs</td><td>6</td></tr><tr><td>Memory (Gb)</td><td>15.921131134033203</td></tr><tr><td colspan='2'>Sun Nov 26 13:40:48 2023 Środkowoeuropejski czas stand.</td></tr></table>"
      ],
      "text/plain": [
       "<IPython.core.display.HTML object>"
      ]
     },
     "metadata": {},
     "output_type": "display_data"
    },
    {
     "data": {
      "text/html": [
       "<div style='width: 100%; background-color:#d5d9e0;padding-left: 10px; padding-bottom: 10px; padding-right: 10px; padding-top: 5px'><h3>This code is a part of Qiskit</h3><p>&copy; Copyright IBM 2017, 2023.</p><p>This code is licensed under the Apache License, Version 2.0. You may<br>obtain a copy of this license in the LICENSE.txt file in the root directory<br> of this source tree or at http://www.apache.org/licenses/LICENSE-2.0.<p>Any modifications or derivative works of this code must retain this<br>copyright notice, and modified files need to carry a notice indicating<br>that they have been altered from the originals.</p></div>"
      ],
      "text/plain": [
       "<IPython.core.display.HTML object>"
      ]
     },
     "metadata": {},
     "output_type": "display_data"
    }
   ],
   "source": [
    "import qiskit.tools.jupyter\n",
    "%qiskit_version_table\n",
    "%qiskit_copyright  "
   ]
  },
  {
   "cell_type": "code",
   "execution_count": 20,
   "metadata": {
    "slideshow": {
     "slide_type": "subslide"
    }
   },
   "outputs": [
    {
     "data": {
      "text/plain": [
       "{'qiskit': '0.45.0', 'qiskit-aer': '0.12.2', 'qiskit-ignis': None, 'qiskit-ibmq-provider': '0.20.2', 'qiskit-nature': '0.6.2', 'qiskit-finance': None, 'qiskit-optimization': '0.5.0', 'qiskit-machine-learning': '0.6.1'}"
      ]
     },
     "execution_count": 20,
     "metadata": {},
     "output_type": "execute_result"
    }
   ],
   "source": [
    "import qiskit\n",
    "qiskit.__qiskit_version__"
   ]
  },
  {
   "cell_type": "code",
   "execution_count": 21,
   "metadata": {
    "slideshow": {
     "slide_type": "slide"
    }
   },
   "outputs": [
    {
     "name": "stdout",
     "output_type": "stream",
     "text": [
      "{'11': 513, '00': 511}\n"
     ]
    }
   ],
   "source": [
    "from qiskit import QuantumCircuit\n",
    "from qiskit.providers.aer import QasmSimulator\n",
    "\n",
    "circuit = QuantumCircuit(2, 2)\n",
    "\n",
    "circuit.h(0)\n",
    "circuit.cx(0, 1)\n",
    "circuit.measure(0, 0) \n",
    "circuit.measure(1, 1)\n",
    "\n",
    "backend = QasmSimulator()\n",
    "\n",
    "job = backend.run(circuit)\n",
    "\n",
    "result = job.result()\n",
    "counts = result.get_counts(circuit)\n",
    "\n",
    "print(counts)"
   ]
  },
  {
   "cell_type": "code",
   "execution_count": 22,
   "metadata": {
    "slideshow": {
     "slide_type": "subslide"
    }
   },
   "outputs": [
    {
     "data": {
      "image/png": "[encoded data removed]",
      "text/plain": [
       "<Figure size 700x500 with 1 Axes>"
      ]
     },
     "execution_count": 22,
     "metadata": {},
     "output_type": "execute_result"
    }
   ],
   "source": [
    "from qiskit.visualization import plot_histogram\n",
    "plot_histogram(counts)"
   ]
  },
  {
   "cell_type": "markdown",
   "metadata": {
    "slideshow": {
     "slide_type": "subslide"
    }
   },
   "source": [
    "Measurements\n",
    "\n",
    "`circuit.measure([0,1], [0,1])`\n",
    "\n",
    "Not all quibits need to be measured.\n",
    "\n",
    "Number of bits in classical register does not need to be equal to number of qubits."
   ]
  },
  {
   "cell_type": "markdown",
   "metadata": {
    "slideshow": {
     "slide_type": "subslide"
    }
   },
   "source": [
    "Running the circuit on chosen backend:\n",
    "\n",
    "`job = backend.run(circuit, shots=3000)`\n",
    "\n",
    "`job = execute(circuit, backend, shots=4321)`"
   ]
  },
  {
   "cell_type": "markdown",
   "metadata": {
    "slideshow": {
     "slide_type": "subslide"
    }
   },
   "source": [
    "Running jobs with remembering individual shots/runs:\n",
    "\n",
    "`job = execute(circuit, backend, shots=20, memory=True)`\n",
    "\n",
    "`data = job.result().get_memory()`\n",
    "\n",
    "`print(data)`"
   ]
  },
  {
   "cell_type": "code",
   "execution_count": 23,
   "metadata": {
    "slideshow": {
     "slide_type": "subslide"
    }
   },
   "outputs": [
    {
     "data": {
      "text/html": [
       "<pre style=\"word-wrap: normal;white-space: pre;background: #fff0;line-height: 1.1;font-family: &quot;Courier New&quot;,Courier,monospace\">     ┌───┐     ┌─┐   \n",
       "q_0: ┤ H ├──■──┤M├───\n",
       "     └───┘┌─┴─┐└╥┘┌─┐\n",
       "q_1: ─────┤ X ├─╫─┤M├\n",
       "          └───┘ ║ └╥┘\n",
       "c: 2/═══════════╩══╩═\n",
       "                0  1 </pre>"
      ],
      "text/plain": [
       "     ┌───┐     ┌─┐   \n",
       "q_0: ┤ H ├──■──┤M├───\n",
       "     └───┘┌─┴─┐└╥┘┌─┐\n",
       "q_1: ─────┤ X ├─╫─┤M├\n",
       "          └───┘ ║ └╥┘\n",
       "c: 2/═══════════╩══╩═\n",
       "                0  1 "
      ]
     },
     "execution_count": 23,
     "metadata": {},
     "output_type": "execute_result"
    }
   ],
   "source": [
    "%matplotlib inline\n",
    "circuit.draw()"
   ]
  },
  {
   "cell_type": "code",
   "execution_count": 24,
   "metadata": {
    "slideshow": {
     "slide_type": "subslide"
    }
   },
   "outputs": [
    {
     "name": "stderr",
     "output_type": "stream",
     "text": [
      "c:\\Users\\tomek\\anaconda3\\envs\\ibm_venv\\lib\\site-packages\\qiskit\\visualization\\circuit\\matplotlib.py:266: FutureWarning: The default matplotlib drawer scheme will be changed to \"iqp\" in a following release. To silence this warning, specify the current default explicitly as style=\"clifford\", or the new default as style=\"iqp\".\n",
      "  self._style, def_font_ratio = load_style(self._style)\n"
     ]
    },
    {
     "data": {
      "image/png": "[encoded data removed]",
      "text/plain": [
       "<Figure size 454.517x284.278 with 1 Axes>"
      ]
     },
     "execution_count": 24,
     "metadata": {},
     "output_type": "execute_result"
    }
   ],
   "source": [
    "circuit.draw('mpl')"
   ]
  },
  {
   "cell_type": "markdown",
   "metadata": {
    "slideshow": {
     "slide_type": "slide"
    }
   },
   "source": [
    "## Exercise 2.4 - coin flip simulation\n",
    "Write program in Qiskit which will generate N random bit values (0 or 1) using Hadamard gate and quantum simulator.\n",
    "Hadamard gate puts the qubit (initialized in |0>) in a superposition of |0> and |1> states. Subsequent measurement gives equal probability of getting 0 and 1. N is a parameter which can be set for any number.\n",
    "We use simulator, which means the numbers are not really random (are pseudo-random), but in subsequent exercise we will use real quantum computer for generating really random numbers."
   ]
  },
  {
   "cell_type": "code",
   "execution_count": 25,
   "metadata": {},
   "outputs": [
    {
     "name": "stdout",
     "output_type": "stream",
     "text": [
      "Counts: {'1': 503, '0': 497}\n"
     ]
    }
   ],
   "source": [
    "from qiskit import QuantumCircuit, Aer, execute\n",
    "from qiskit.visualization import plot_histogram\n",
    "\n",
    "def simulate_coin_flips(N):\n",
    "    # Create a Quantum Circuit with 1 qubit and 1 classical bit\n",
    "    circuit = QuantumCircuit(1, 1)\n",
    "\n",
    "    # Apply the Hadamard gate to the qubit\n",
    "    circuit.h(0)\n",
    "\n",
    "    # Measure the qubit into the classical bit\n",
    "    circuit.measure(0, 0)\n",
    "\n",
    "    # Select the QasmSimulator from the Aer provider\n",
    "    simulator = Aer.get_backend('qasm_simulator')\n",
    "\n",
    "    # Execute the circuit on the qasm simulator N times\n",
    "    job = execute(circuit, simulator, shots=N)\n",
    "\n",
    "    # Grab results from the job\n",
    "    result = job.result()\n",
    "\n",
    "    # Get counts and display them\n",
    "    counts = result.get_counts(circuit)\n",
    "    print(f\"Counts: {counts}\")\n",
    "\n",
    "# Example: Simulate 1000 coin flips\n",
    "simulate_coin_flips(1000)"
   ]
  },
  {
   "cell_type": "markdown",
   "metadata": {
    "slideshow": {
     "slide_type": "slide"
    }
   },
   "source": [
    "## Providers and Backends"
   ]
  },
  {
   "cell_type": "markdown",
   "metadata": {
    "slideshow": {
     "slide_type": "subslide"
    }
   },
   "source": [
    "Provider\n",
    "- entity that provides access to group of backends\n",
    "- Qiskit includes 2 providers: `Aer` and `IBMQ`\n",
    "- implements:\n",
    "    - `backends()`\n",
    "    - `get_backend(name)`"
   ]
  },
  {
   "cell_type": "markdown",
   "metadata": {
    "slideshow": {
     "slide_type": "subslide"
    }
   },
   "source": [
    "Backend\n",
    "- represents either simulator or real quantum computer\n",
    "- inherits from `BaseBackend`\n",
    "- implements:\n",
    "    - `run(qobj)`\n",
    "    - `configuration()`\n",
    "    - `properties()`\n",
    "    - `name()`\n",
    "    - `status()`"
   ]
  },
  {
   "cell_type": "markdown",
   "metadata": {
    "slideshow": {
     "slide_type": "slide"
    }
   },
   "source": [
    "## Account and token"
   ]
  },
  {
   "cell_type": "markdown",
   "metadata": {
    "slideshow": {
     "slide_type": "subslide"
    }
   },
   "source": [
    "`IBMQ.save_account('<TOKEN>')`\n",
    "\n",
    "If account is already saved, it can be overwritten with:\n",
    "\n",
    "`IBMQ.save_account('<TOKEN>', overwrite=True)`\n",
    "\n",
    "`IBMQ.stored_account()` - shows what account is stored on the machine\n",
    "\n",
    "`IBMQ.delete_account()` - deletes currently stored account\n",
    "\n",
    "More details: https://quantum-computing.ibm.com/lab/docs/iql/manage/account/ibmq"
   ]
  },
  {
   "cell_type": "code",
   "execution_count": 26,
   "metadata": {
    "slideshow": {
     "slide_type": "subslide"
    }
   },
   "outputs": [
    {
     "data": {
      "text/plain": [
       "[<AccountProvider for IBMQ(hub='ibm-q', group='open', project='main')>]"
      ]
     },
     "execution_count": 26,
     "metadata": {},
     "output_type": "execute_result"
    }
   ],
   "source": [
    "from qiskit import IBMQ\n",
    "IBMQ.providers()"
   ]
  },
  {
   "cell_type": "code",
   "execution_count": 27,
   "metadata": {},
   "outputs": [],
   "source": [
    "IBMQ.save_account('348957014d94f1e55f48e53a39258698de4ae5e7b292951ec2c347030cea49cb61f5e9ccdeaf303f6c492152ac452086d893cf1582f0c3480ef90f634596a494', overwrite=True)"
   ]
  },
  {
   "cell_type": "code",
   "execution_count": 28,
   "metadata": {
    "slideshow": {
     "slide_type": "subslide"
    }
   },
   "outputs": [
    {
     "name": "stderr",
     "output_type": "stream",
     "text": [
      "ibmqfactory.load_account:WARNING:2023-11-26 13:40:53,516: Credentials are already in use. The existing account in the session will be replaced.\n"
     ]
    }
   ],
   "source": [
    "provider = IBMQ.load_account()"
   ]
  },
  {
   "cell_type": "code",
   "execution_count": 29,
   "metadata": {
    "slideshow": {
     "slide_type": "subslide"
    }
   },
   "outputs": [
    {
     "data": {
      "text/plain": [
       "[<AccountProvider for IBMQ(hub='ibm-q', group='open', project='main')>]"
      ]
     },
     "execution_count": 29,
     "metadata": {},
     "output_type": "execute_result"
    }
   ],
   "source": [
    "IBMQ.providers()"
   ]
  },
  {
   "cell_type": "code",
   "execution_count": 30,
   "metadata": {
    "slideshow": {
     "slide_type": "slide"
    }
   },
   "outputs": [
    {
     "data": {
      "text/plain": [
       "[<IBMQSimulator('ibmq_qasm_simulator') from IBMQ(hub='ibm-q', group='open', project='main')>,\n",
       " <IBMQSimulator('simulator_statevector') from IBMQ(hub='ibm-q', group='open', project='main')>,\n",
       " <IBMQSimulator('simulator_mps') from IBMQ(hub='ibm-q', group='open', project='main')>,\n",
       " <IBMQSimulator('simulator_extended_stabilizer') from IBMQ(hub='ibm-q', group='open', project='main')>,\n",
       " <IBMQSimulator('simulator_stabilizer') from IBMQ(hub='ibm-q', group='open', project='main')>,\n",
       " <IBMQBackend('ibm_lagos') from IBMQ(hub='ibm-q', group='open', project='main')>,\n",
       " <IBMQBackend('ibm_nairobi') from IBMQ(hub='ibm-q', group='open', project='main')>,\n",
       " <IBMQBackend('ibm_perth') from IBMQ(hub='ibm-q', group='open', project='main')>,\n",
       " <IBMQBackend('ibm_brisbane') from IBMQ(hub='ibm-q', group='open', project='main')>]"
      ]
     },
     "execution_count": 30,
     "metadata": {},
     "output_type": "execute_result"
    }
   ],
   "source": [
    "provider.backends()"
   ]
  },
  {
   "cell_type": "code",
   "execution_count": 31,
   "metadata": {
    "slideshow": {
     "slide_type": "slide"
    }
   },
   "outputs": [
    {
     "name": "stdout",
     "output_type": "stream",
     "text": [
      "{'backend_name': 'ibmq_qasm_simulator', 'backend_version': '0.1.547', 'operational': True, 'pending_jobs': 0, 'status_msg': 'active'}\n",
      "{'backend_name': 'simulator_statevector', 'backend_version': '0.1.547', 'operational': True, 'pending_jobs': 0, 'status_msg': 'active'}\n",
      "{'backend_name': 'simulator_mps', 'backend_version': '0.1.547', 'operational': True, 'pending_jobs': 0, 'status_msg': 'active'}\n",
      "{'backend_name': 'simulator_extended_stabilizer', 'backend_version': '0.1.547', 'operational': True, 'pending_jobs': 0, 'status_msg': 'active'}\n",
      "{'backend_name': 'simulator_stabilizer', 'backend_version': '0.1.547', 'operational': True, 'pending_jobs': 0, 'status_msg': 'active'}\n",
      "{'backend_name': 'ibm_lagos', 'backend_version': '1.6.2', 'operational': True, 'pending_jobs': 9, 'status_msg': 'dedicated'}\n",
      "{'backend_name': 'ibm_nairobi', 'backend_version': '1.3.3', 'operational': True, 'pending_jobs': 5, 'status_msg': 'active'}\n",
      "{'backend_name': 'ibm_perth', 'backend_version': '1.2.8', 'operational': True, 'pending_jobs': 5, 'status_msg': 'dedicated'}\n",
      "{'backend_name': 'ibm_brisbane', 'backend_version': '1.1.13', 'operational': True, 'pending_jobs': 1029, 'status_msg': 'active'}\n"
     ]
    }
   ],
   "source": [
    "for backend in provider.backends():\n",
    "    print(backend.status().to_dict())"
   ]
  },
  {
   "cell_type": "code",
   "execution_count": 32,
   "metadata": {
    "slideshow": {
     "slide_type": "slide"
    }
   },
   "outputs": [
    {
     "name": "stdout",
     "output_type": "stream",
     "text": [
      "ibm_brisbane                 ibm_perth                    ibm_nairobi\n",
      "------------                 ---------                    -----------\n",
      "Num. Qubits:  127            Num. Qubits:  7              Num. Qubits:  7\n",
      "Pending Jobs: 1029           Pending Jobs: 5              Pending Jobs: 5\n",
      "Least busy:   False          Least busy:   True           Least busy:   False\n",
      "Operational:  True           Operational:  True           Operational:  True\n",
      "Avg. T1:      226.8          Avg. T1:      164.9          Avg. T1:      99.1\n",
      "Avg. T2:      150.9          Avg. T2:      162.0          Avg. T2:      65.9\n",
      "\n",
      "\n",
      "\n",
      "ibm_lagos\n",
      "---------\n",
      "Num. Qubits:  7\n",
      "Pending Jobs: 9\n",
      "Least busy:   False\n",
      "Operational:  True\n",
      "Avg. T1:      106.4\n",
      "Avg. T2:      62.6\n",
      "\n",
      "\n",
      "\n"
     ]
    }
   ],
   "source": [
    "from qiskit.tools.monitor import backend_overview, backend_monitor\n",
    "backend_overview()"
   ]
  },
  {
   "cell_type": "code",
   "execution_count": 33,
   "metadata": {
    "slideshow": {
     "slide_type": "slide"
    }
   },
   "outputs": [],
   "source": [
    "real_backend = provider.get_backend('ibm_nairobi')"
   ]
  },
  {
   "cell_type": "code",
   "execution_count": 34,
   "metadata": {
    "slideshow": {
     "slide_type": "subslide"
    }
   },
   "outputs": [
    {
     "name": "stdout",
     "output_type": "stream",
     "text": [
      "{'acquisition_latency': [],\n",
      " 'allow_object_storage': True,\n",
      " 'allow_q_object': True,\n",
      " 'backend_name': 'ibm_nairobi',\n",
      " 'backend_version': '1.3.3',\n",
      " 'basis_gates': ['id', 'rz', 'sx', 'x', 'cx', 'reset'],\n",
      " 'channels': {'acquire0': {'operates': {'qubits': [0]},\n",
      "                           'purpose': 'acquire',\n",
      "                           'type': 'acquire'},\n",
      "              'acquire1': {'operates': {'qubits': [1]},\n",
      "                           'purpose': 'acquire',\n",
      "                           'type': 'acquire'},\n",
      "              'acquire2': {'operates': {'qubits': [2]},\n",
      "                           'purpose': 'acquire',\n",
      "                           'type': 'acquire'},\n",
      "              'acquire3': {'operates': {'qubits': [3]},\n",
      "                           'purpose': 'acquire',\n",
      "                           'type': 'acquire'},\n",
      "              'acquire4': {'operates': {'qubits': [4]},\n",
      "                           'purpose': 'acquire',\n",
      "                           'type': 'acquire'},\n",
      "              'acquire5': {'operates': {'qubits': [5]},\n",
      "                           'purpose': 'acquire',\n",
      "                           'type': 'acquire'},\n",
      "              'acquire6': {'operates': {'qubits': [6]},\n",
      "                           'purpose': 'acquire',\n",
      "                           'type': 'acquire'},\n",
      "              'd0': {'operates': {'qubits': [0]},\n",
      "                     'purpose': 'drive',\n",
      "                     'type': 'drive'},\n",
      "              'd1': {'operates': {'qubits': [1]},\n",
      "                     'purpose': 'drive',\n",
      "                     'type': 'drive'},\n",
      "              'd2': {'operates': {'qubits': [2]},\n",
      "                     'purpose': 'drive',\n",
      "                     'type': 'drive'},\n",
      "              'd3': {'operates': {'qubits': [3]},\n",
      "                     'purpose': 'drive',\n",
      "                     'type': 'drive'},\n",
      "              'd4': {'operates': {'qubits': [4]},\n",
      "                     'purpose': 'drive',\n",
      "                     'type': 'drive'},\n",
      "              'd5': {'operates': {'qubits': [5]},\n",
      "                     'purpose': 'drive',\n",
      "                     'type': 'drive'},\n",
      "              'd6': {'operates': {'qubits': [6]},\n",
      "                     'purpose': 'drive',\n",
      "                     'type': 'drive'},\n",
      "              'm0': {'operates': {'qubits': [0]},\n",
      "                     'purpose': 'measure',\n",
      "                     'type': 'measure'},\n",
      "              'm1': {'operates': {'qubits': [1]},\n",
      "                     'purpose': 'measure',\n",
      "                     'type': 'measure'},\n",
      "              'm2': {'operates': {'qubits': [2]},\n",
      "                     'purpose': 'measure',\n",
      "                     'type': 'measure'},\n",
      "              'm3': {'operates': {'qubits': [3]},\n",
      "                     'purpose': 'measure',\n",
      "                     'type': 'measure'},\n",
      "              'm4': {'operates': {'qubits': [4]},\n",
      "                     'purpose': 'measure',\n",
      "                     'type': 'measure'},\n",
      "              'm5': {'operates': {'qubits': [5]},\n",
      "                     'purpose': 'measure',\n",
      "                     'type': 'measure'},\n",
      "              'm6': {'operates': {'qubits': [6]},\n",
      "                     'purpose': 'measure',\n",
      "                     'type': 'measure'},\n",
      "              'u0': {'operates': {'qubits': [0, 1]},\n",
      "                     'purpose': 'cross-resonance',\n",
      "                     'type': 'control'},\n",
      "              'u1': {'operates': {'qubits': [1, 0]},\n",
      "                     'purpose': 'cross-resonance',\n",
      "                     'type': 'control'},\n",
      "              'u10': {'operates': {'qubits': [5, 6]},\n",
      "                      'purpose': 'cross-resonance',\n",
      "                      'type': 'control'},\n",
      "              'u11': {'operates': {'qubits': [6, 5]},\n",
      "                      'purpose': 'cross-resonance',\n",
      "                      'type': 'control'},\n",
      "              'u2': {'operates': {'qubits': [1, 2]},\n",
      "                     'purpose': 'cross-resonance',\n",
      "                     'type': 'control'},\n",
      "              'u3': {'operates': {'qubits': [1, 3]},\n",
      "                     'purpose': 'cross-resonance',\n",
      "                     'type': 'control'},\n",
      "              'u4': {'operates': {'qubits': [2, 1]},\n",
      "                     'purpose': 'cross-resonance',\n",
      "                     'type': 'control'},\n",
      "              'u5': {'operates': {'qubits': [3, 1]},\n",
      "                     'purpose': 'cross-resonance',\n",
      "                     'type': 'control'},\n",
      "              'u6': {'operates': {'qubits': [3, 5]},\n",
      "                     'purpose': 'cross-resonance',\n",
      "                     'type': 'control'},\n",
      "              'u7': {'operates': {'qubits': [4, 5]},\n",
      "                     'purpose': 'cross-resonance',\n",
      "                     'type': 'control'},\n",
      "              'u8': {'operates': {'qubits': [5, 3]},\n",
      "                     'purpose': 'cross-resonance',\n",
      "                     'type': 'control'},\n",
      "              'u9': {'operates': {'qubits': [5, 4]},\n",
      "                     'purpose': 'cross-resonance',\n",
      "                     'type': 'control'}},\n",
      " 'clops': 2645,\n",
      " 'clops_h': 'None',\n",
      " 'clops_v': 2645,\n",
      " 'conditional': False,\n",
      " 'conditional_latency': [],\n",
      " 'coords': [[2, 1], [3, 1], [4, 1], [3, 2], [2, 3], [3, 3], [4, 3]],\n",
      " 'coupling_map': [[0, 1],\n",
      "                  [1, 0],\n",
      "                  [1, 2],\n",
      "                  [1, 3],\n",
      "                  [2, 1],\n",
      "                  [3, 1],\n",
      "                  [3, 5],\n",
      "                  [4, 5],\n",
      "                  [5, 3],\n",
      "                  [5, 4],\n",
      "                  [5, 6],\n",
      "                  [6, 5]],\n",
      " 'credits_required': True,\n",
      " 'default_rep_delay': 250.0,\n",
      " 'description': '7 qubit device',\n",
      " 'discriminators': ['linear_discriminator',\n",
      "                    'hw_qmfk',\n",
      "                    'quadratic_discriminator'],\n",
      " 'dt': 0.2222222222222222,\n",
      " 'dtm': 0.2222222222222222,\n",
      " 'dynamic_reprate_enabled': True,\n",
      " 'gates': [{'coupling_map': [[0], [1], [2], [3], [4], [5], [6]],\n",
      "            'name': 'id',\n",
      "            'parameters': [],\n",
      "            'qasm_def': 'gate id q { U(0, 0, 0) q; }'},\n",
      "           {'coupling_map': [[0], [1], [2], [3], [4], [5], [6]],\n",
      "            'name': 'rz',\n",
      "            'parameters': ['theta'],\n",
      "            'qasm_def': 'gate rz(theta) q { U(0, 0, theta) q; }'},\n",
      "           {'coupling_map': [[0], [1], [2], [3], [4], [5], [6]],\n",
      "            'name': 'sx',\n",
      "            'parameters': [],\n",
      "            'qasm_def': 'gate sx q { U(pi/2, 3*pi/2, pi/2) q; }'},\n",
      "           {'coupling_map': [[0], [1], [2], [3], [4], [5], [6]],\n",
      "            'name': 'x',\n",
      "            'parameters': [],\n",
      "            'qasm_def': 'gate x q { U(pi, 0, pi) q; }'},\n",
      "           {'coupling_map': [[0, 1],\n",
      "                             [1, 0],\n",
      "                             [1, 2],\n",
      "                             [1, 3],\n",
      "                             [2, 1],\n",
      "                             [3, 1],\n",
      "                             [3, 5],\n",
      "                             [4, 5],\n",
      "                             [5, 3],\n",
      "                             [5, 4],\n",
      "                             [5, 6],\n",
      "                             [6, 5]],\n",
      "            'name': 'cx',\n",
      "            'parameters': [],\n",
      "            'qasm_def': 'gate cx q0, q1 { CX q0, q1; }'},\n",
      "           {'name': 'reset', 'parameters': None, 'qasm_def': None}],\n",
      " 'hamiltonian': {'description': 'Qubits are modeled as Duffing oscillators. In '\n",
      "                                'this case, the system includes higher energy '\n",
      "                                'states, i.e. not just |0> and |1>. The Pauli '\n",
      "                                'operators are generalized via the following '\n",
      "                                'set of transformations:\\n'\n",
      "                                '\\n'\n",
      "                                '$(\\\\mathbb{I}-\\\\sigma_{i}^z)/2 \\\\rightarrow '\n",
      "                                'O_i \\\\equiv b^\\\\dagger_{i} b_{i}$,\\n'\n",
      "                                '\\n'\n",
      "                                '$\\\\sigma_{+} \\\\rightarrow b^\\\\dagger$,\\n'\n",
      "                                '\\n'\n",
      "                                '$\\\\sigma_{-} \\\\rightarrow b$,\\n'\n",
      "                                '\\n'\n",
      "                                '$\\\\sigma_{i}^X \\\\rightarrow b^\\\\dagger_{i} + '\n",
      "                                'b_{i}$.\\n'\n",
      "                                '\\n'\n",
      "                                'Qubits are coupled through resonator buses. '\n",
      "                                'The provided Hamiltonian has been projected '\n",
      "                                'into the zero excitation subspace of the '\n",
      "                                'resonator buses leading to an effective '\n",
      "                                'qubit-qubit flip-flop interaction. The qubit '\n",
      "                                'resonance frequencies in the Hamiltonian are '\n",
      "                                'the cavity dressed frequencies and not '\n",
      "                                'exactly what is returned by the backend '\n",
      "                                'defaults, which also includes the dressing '\n",
      "                                'due to the qubit-qubit interactions.\\n'\n",
      "                                '\\n'\n",
      "                                'Quantities are returned in angular '\n",
      "                                'frequencies, with units 2*pi*GHz.\\n'\n",
      "                                '\\n'\n",
      "                                'WARNING: Currently not all system Hamiltonian '\n",
      "                                'information is available to the public, '\n",
      "                                'missing values have been replaced with 0.\\n',\n",
      "                 'h_latex': '\\\\begin{align} \\\\mathcal{H}/\\\\hbar = & '\n",
      "                            '\\\\sum_{i=0}^{6}\\\\left(\\\\frac{\\\\omega_{q,i}}{2}(\\\\mathbb{I}-\\\\sigma_i^{z})+\\\\frac{\\\\Delta_{i}}{2}(O_i^2-O_i)+\\\\Omega_{d,i}D_i(t)\\\\sigma_i^{X}\\\\right) '\n",
      "                            '\\\\\\\\ & + '\n",
      "                            'J_{0,1}(\\\\sigma_{0}^{+}\\\\sigma_{1}^{-}+\\\\sigma_{0}^{-}\\\\sigma_{1}^{+}) '\n",
      "                            '+ '\n",
      "                            'J_{1,2}(\\\\sigma_{1}^{+}\\\\sigma_{2}^{-}+\\\\sigma_{1}^{-}\\\\sigma_{2}^{+}) '\n",
      "                            '+ '\n",
      "                            'J_{4,5}(\\\\sigma_{4}^{+}\\\\sigma_{5}^{-}+\\\\sigma_{4}^{-}\\\\sigma_{5}^{+}) '\n",
      "                            '+ '\n",
      "                            'J_{5,6}(\\\\sigma_{5}^{+}\\\\sigma_{6}^{-}+\\\\sigma_{5}^{-}\\\\sigma_{6}^{+}) '\n",
      "                            '\\\\\\\\ & + '\n",
      "                            'J_{1,3}(\\\\sigma_{1}^{+}\\\\sigma_{3}^{-}+\\\\sigma_{1}^{-}\\\\sigma_{3}^{+}) '\n",
      "                            '+ '\n",
      "                            'J_{3,5}(\\\\sigma_{3}^{+}\\\\sigma_{5}^{-}+\\\\sigma_{3}^{-}\\\\sigma_{5}^{+}) '\n",
      "                            '\\\\\\\\ & + '\n",
      "                            '\\\\Omega_{d,0}(U_{0}^{(0,1)}(t))\\\\sigma_{0}^{X} + '\n",
      "                            '\\\\Omega_{d,1}(U_{1}^{(1,0)}(t)+U_{3}^{(1,3)}(t)+U_{2}^{(1,2)}(t))\\\\sigma_{1}^{X} '\n",
      "                            '\\\\\\\\ & + '\n",
      "                            '\\\\Omega_{d,2}(U_{4}^{(2,1)}(t))\\\\sigma_{2}^{X} + '\n",
      "                            '\\\\Omega_{d,3}(U_{5}^{(3,1)}(t)+U_{6}^{(3,5)}(t))\\\\sigma_{3}^{X} '\n",
      "                            '\\\\\\\\ & + '\n",
      "                            '\\\\Omega_{d,4}(U_{7}^{(4,5)}(t))\\\\sigma_{4}^{X} + '\n",
      "                            '\\\\Omega_{d,5}(U_{8}^{(5,3)}(t)+U_{10}^{(5,6)}(t)+U_{9}^{(5,4)}(t))\\\\sigma_{5}^{X} '\n",
      "                            '\\\\\\\\ & + '\n",
      "                            '\\\\Omega_{d,6}(U_{11}^{(6,5)}(t))\\\\sigma_{6}^{X} '\n",
      "                            '\\\\\\\\ \\\\end{align}',\n",
      "                 'h_str': ['_SUM[i,0,6,wq{i}/2*(I{i}-Z{i})]',\n",
      "                           '_SUM[i,0,6,delta{i}/2*O{i}*O{i}]',\n",
      "                           '_SUM[i,0,6,-delta{i}/2*O{i}]',\n",
      "                           '_SUM[i,0,6,omegad{i}*X{i}||D{i}]',\n",
      "                           'jq0q1*Sp0*Sm1',\n",
      "                           'jq0q1*Sm0*Sp1',\n",
      "                           'jq1q2*Sp1*Sm2',\n",
      "                           'jq1q2*Sm1*Sp2',\n",
      "                           'jq4q5*Sp4*Sm5',\n",
      "                           'jq4q5*Sm4*Sp5',\n",
      "                           'jq5q6*Sp5*Sm6',\n",
      "                           'jq5q6*Sm5*Sp6',\n",
      "                           'jq1q3*Sp1*Sm3',\n",
      "                           'jq1q3*Sm1*Sp3',\n",
      "                           'jq3q5*Sp3*Sm5',\n",
      "                           'jq3q5*Sm3*Sp5',\n",
      "                           'omegad1*X0||U0',\n",
      "                           'omegad0*X1||U1',\n",
      "                           'omegad3*X1||U3',\n",
      "                           'omegad2*X1||U2',\n",
      "                           'omegad1*X2||U4',\n",
      "                           'omegad1*X3||U5',\n",
      "                           'omegad5*X3||U6',\n",
      "                           'omegad5*X4||U7',\n",
      "                           'omegad3*X5||U8',\n",
      "                           'omegad6*X5||U10',\n",
      "                           'omegad4*X5||U9',\n",
      "                           'omegad5*X6||U11'],\n",
      "                 'osc': {},\n",
      "                 'qub': {'0': 3,\n",
      "                         '1': 3,\n",
      "                         '2': 3,\n",
      "                         '3': 3,\n",
      "                         '4': 3,\n",
      "                         '5': 3,\n",
      "                         '6': 3},\n",
      "                 'vars': {'delta0': -2.135243733769955,\n",
      "                          'delta1': -2.13994911280816,\n",
      "                          'delta2': -2.129394678066021,\n",
      "                          'delta3': -2.1521818261888614,\n",
      "                          'delta4': -2.139992595470489,\n",
      "                          'delta5': -2.1396276723776833,\n",
      "                          'delta6': -2.1390204375856214,\n",
      "                          'jq0q1': 0.015232735472195266,\n",
      "                          'jq1q2': 0.020731271939206836,\n",
      "                          'jq1q3': 0.02043730274123934,\n",
      "                          'jq3q5': 0.015020857056561223,\n",
      "                          'jq4q5': 0.021264092348739026,\n",
      "                          'jq5q6': 0.02072534082080968,\n",
      "                          'omegad0': 1.371306824093727,\n",
      "                          'omegad1': 1.1321335434145137,\n",
      "                          'omegad2': 1.0968161739877478,\n",
      "                          'omegad3': 0.9615287146212158,\n",
      "                          'omegad4': 0.9233500582197784,\n",
      "                          'omegad5': 1.0898703940800416,\n",
      "                          'omegad6': 0.9687924241829919,\n",
      "                          'wq0': 33.05262655832513,\n",
      "                          'wq1': 32.486825262870674,\n",
      "                          'wq2': 33.13963461702502,\n",
      "                          'wq3': 31.58252158592974,\n",
      "                          'wq4': 32.52931965426352,\n",
      "                          'wq5': 33.25567834577134,\n",
      "                          'wq6': 32.22446429799162}},\n",
      " 'input_allowed': ['job', 'runtime', 'qasm3'],\n",
      " 'live_data': False,\n",
      " 'local': False,\n",
      " 'max_experiments': 100,\n",
      " 'max_shots': 20000,\n",
      " 'meas_kernels': ['hw_qmfk'],\n",
      " 'meas_levels': [1, 2],\n",
      " 'meas_lo_range': [[6.692252553, 7.692252553],\n",
      "                   [6.628685982, 7.628685982],\n",
      "                   [6.875559376, 7.875559376000001],\n",
      "                   [6.750891115000001, 7.750891115000001],\n",
      "                   [6.691408487, 7.691408487],\n",
      "                   [6.794772648, 7.794772648],\n",
      "                   [6.692597760000001, 7.692597760000001]],\n",
      " 'meas_map': [[0, 1, 2, 3, 4, 5, 6]],\n",
      " 'measure_esp_enabled': False,\n",
      " 'memory': True,\n",
      " 'multi_meas_enabled': True,\n",
      " 'n_qubits': 7,\n",
      " 'n_registers': 1,\n",
      " 'n_uchannels': 12,\n",
      " 'online_date': datetime.datetime(2021, 5, 20, 4, 0, tzinfo=tzutc()),\n",
      " 'open_pulse': False,\n",
      " 'parallel_compilation': True,\n",
      " 'parametric_pulses': ['gaussian',\n",
      "                       'gaussian_square',\n",
      "                       'gaussian_square_drag',\n",
      "                       'drag',\n",
      "                       'constant'],\n",
      " 'processor_type': {'family': 'Falcon', 'revision': '5.11', 'segment': 'H'},\n",
      " 'pulse_num_channels': 9,\n",
      " 'pulse_num_qubits': 3,\n",
      " 'quantum_volume': 32,\n",
      " 'qubit_channel_mapping': [['u1', 'm0', 'd0', 'u0'],\n",
      "                           ['u3', 'u1', 'm1', 'd1', 'u2', 'u4', 'u5', 'u0'],\n",
      "                           ['m2', 'd2', 'u4', 'u2'],\n",
      "                           ['u3', 'd3', 'u5', 'u6', 'm3', 'u8'],\n",
      "                           ['m4', 'u9', 'u7', 'd4'],\n",
      "                           ['u9', 'u6', 'u11', 'm5', 'u8', 'd5', 'u10', 'u7'],\n",
      "                           ['m6', 'u10', 'd6', 'u11']],\n",
      " 'qubit_lo_range': [[4.760488898927904, 5.760488898927904],\n",
      "                    [4.670438825948531, 5.670438825948531],\n",
      "                    [4.774336661558822, 5.774336661558822],\n",
      "                    [4.526514425707203, 5.526514425707203],\n",
      "                    [4.677202018392383, 5.677202018392383],\n",
      "                    [4.792805594603613, 5.792805594603613],\n",
      "                    [4.628682781513668, 5.628682781513668]],\n",
      " 'rep_delay_range': [0.0, 500.0],\n",
      " 'rep_times': [1000.0],\n",
      " 'sample_name': 'family: Falcon, revision: 5.11, segment: H',\n",
      " 'simulator': False,\n",
      " 'supported_features': ['qobj', 'qasm3', 'parameters'],\n",
      " 'supported_instructions': ['cx',\n",
      "                            'id',\n",
      "                            'delay',\n",
      "                            'measure',\n",
      "                            'reset',\n",
      "                            'rz',\n",
      "                            'sx',\n",
      "                            'x',\n",
      "                            'if_else',\n",
      "                            'for_loop',\n",
      "                            'switch_case'],\n",
      " 'timing_constraints': {'acquire_alignment': 16,\n",
      "                        'granularity': 16,\n",
      "                        'min_length': 64,\n",
      "                        'pulse_alignment': 16},\n",
      " 'u_channel_lo': [[{'q': 1, 'scale': (1+0j)}],\n",
      "                  [{'q': 0, 'scale': (1+0j)}],\n",
      "                  [{'q': 2, 'scale': (1+0j)}],\n",
      "                  [{'q': 3, 'scale': (1+0j)}],\n",
      "                  [{'q': 1, 'scale': (1+0j)}],\n",
      "                  [{'q': 1, 'scale': (1+0j)}],\n",
      "                  [{'q': 5, 'scale': (1+0j)}],\n",
      "                  [{'q': 5, 'scale': (1+0j)}],\n",
      "                  [{'q': 3, 'scale': (1+0j)}],\n",
      "                  [{'q': 4, 'scale': (1+0j)}],\n",
      "                  [{'q': 6, 'scale': (1+0j)}],\n",
      "                  [{'q': 5, 'scale': (1+0j)}]],\n",
      " 'uchannels_enabled': True,\n",
      " 'url': 'None'}\n"
     ]
    }
   ],
   "source": [
    "import pprint\n",
    "\n",
    "pprint.pprint(real_backend.configuration().to_dict())"
   ]
  },
  {
   "cell_type": "code",
   "execution_count": 35,
   "metadata": {
    "slideshow": {
     "slide_type": "subslide"
    }
   },
   "outputs": [],
   "source": [
    "from qiskit import execute\n",
    "real_job = execute(circuit, real_backend, shots=1024)"
   ]
  },
  {
   "cell_type": "markdown",
   "metadata": {
    "slideshow": {
     "slide_type": "slide"
    }
   },
   "source": [
    "## Jobs management"
   ]
  },
  {
   "cell_type": "code",
   "execution_count": 36,
   "metadata": {
    "slideshow": {
     "slide_type": "subslide"
    }
   },
   "outputs": [
    {
     "data": {
      "text/plain": [
       "'cnhkstqrw83g008a7jtg'"
      ]
     },
     "execution_count": 36,
     "metadata": {},
     "output_type": "execute_result"
    }
   ],
   "source": [
    "real_job_id=real_job.job_id()\n",
    "real_job_id"
   ]
  },
  {
   "cell_type": "code",
   "execution_count": 37,
   "metadata": {
    "slideshow": {
     "slide_type": "subslide"
    }
   },
   "outputs": [],
   "source": [
    "real_job.queue_position()"
   ]
  },
  {
   "cell_type": "code",
   "execution_count": 38,
   "metadata": {
    "slideshow": {
     "slide_type": "subslide"
    }
   },
   "outputs": [
    {
     "data": {
      "text/plain": [
       "<JobStatus.QUEUED: 'job is queued'>"
      ]
     },
     "execution_count": 38,
     "metadata": {},
     "output_type": "execute_result"
    }
   ],
   "source": [
    "real_job.status()"
   ]
  },
  {
   "cell_type": "markdown",
   "metadata": {
    "slideshow": {
     "slide_type": "fragment"
    }
   },
   "source": [
    "`<JobStatus.QUEUED: 'job is queued'>`\n",
    "\n",
    "`<JobStatus.RUNNING: 'job is actively running'>`\n",
    "\n",
    "`<JobStatus.DONE: 'job has successfully run'>`"
   ]
  },
  {
   "cell_type": "code",
   "execution_count": 39,
   "metadata": {
    "slideshow": {
     "slide_type": "subslide"
    }
   },
   "outputs": [],
   "source": [
    "for job in real_backend.jobs():\n",
    "    print(str(job.job_id()) + \"   \" + str(job.creation_date()) + \"   \" + str(job.status()))"
   ]
  },
  {
   "cell_type": "code",
   "execution_count": 40,
   "metadata": {
    "slideshow": {
     "slide_type": "subslide"
    }
   },
   "outputs": [],
   "source": [
    "real_result = real_backend.retrieve_job(real_job_id).result()"
   ]
  },
  {
   "cell_type": "code",
   "execution_count": null,
   "metadata": {
    "slideshow": {
     "slide_type": "slide"
    }
   },
   "outputs": [],
   "source": [
    "real_counts = real_result.get_counts()"
   ]
  },
  {
   "cell_type": "code",
   "execution_count": null,
   "metadata": {
    "slideshow": {
     "slide_type": "subslide"
    }
   },
   "outputs": [
    {
     "data": {
      "image/png": "[encoded data removed]",
      "text/plain": [
       "<Figure size 504x360 with 1 Axes>"
      ]
     },
     "execution_count": 31,
     "metadata": {},
     "output_type": "execute_result"
    }
   ],
   "source": [
    "plot_histogram(real_counts)"
   ]
  },
  {
   "cell_type": "code",
   "execution_count": null,
   "metadata": {
    "slideshow": {
     "slide_type": "subslide"
    }
   },
   "outputs": [
    {
     "data": {
      "image/png": "[encoded data removed]",
      "text/plain": [
       "<Figure size 504x360 with 1 Axes>"
      ]
     },
     "execution_count": 32,
     "metadata": {},
     "output_type": "execute_result"
    }
   ],
   "source": [
    "plot_histogram([real_counts, counts], legend=[\"Real backend\", \"Simulator\"])"
   ]
  },
  {
   "cell_type": "markdown",
   "metadata": {
    "slideshow": {
     "slide_type": "slide"
    }
   },
   "source": [
    "You can execute an array of circuits with one job...to wait in the queue only once ;)\n",
    "\n",
    "`circuit1 = QuantumCircuit(...)\n",
    "...\n",
    "circuit2 = QuantumCircuit(...)\n",
    "...\n",
    "job = execute([circuit1, circuit2], backend=real_backend)`"
   ]
  },
  {
   "cell_type": "code",
   "execution_count": 1,
   "metadata": {
    "slideshow": {
     "slide_type": "slide"
    }
   },
   "outputs": [
    {
     "ename": "NameError",
     "evalue": "name 'circuit' is not defined",
     "output_type": "error",
     "traceback": [
      "\u001b[1;31m---------------------------------------------------------------------------\u001b[0m",
      "\u001b[1;31mNameError\u001b[0m                                 Traceback (most recent call last)",
      "\u001b[1;32mc:\\Users\\tomek\\Documents\\Folder\\Studia\\XISemestr\\Programming IBM quantum computers\\lab02\\lab02.ipynb Cell 51\u001b[0m line \u001b[0;36m2\n\u001b[0;32m      <a href='vscode-notebook-cell:/c%3A/Users/tomek/Documents/Folder/Studia/XISemestr/Programming%20IBM%20quantum%20computers/lab02/lab02.ipynb#X66sZmlsZQ%3D%3D?line=0'>1</a>\u001b[0m \u001b[39mfrom\u001b[39;00m \u001b[39mqiskit\u001b[39;00m \u001b[39mimport\u001b[39;00m execute\n\u001b[1;32m----> <a href='vscode-notebook-cell:/c%3A/Users/tomek/Documents/Folder/Studia/XISemestr/Programming%20IBM%20quantum%20computers/lab02/lab02.ipynb#X66sZmlsZQ%3D%3D?line=1'>2</a>\u001b[0m real_job \u001b[39m=\u001b[39m execute(circuit, real_backend, shots\u001b[39m=\u001b[39m\u001b[39m1024\u001b[39m)\n",
      "\u001b[1;31mNameError\u001b[0m: name 'circuit' is not defined"
     ]
    }
   ],
   "source": [
    "from qiskit import execute\n",
    "real_job = execute(circuit, real_backend, shots=1024)"
   ]
  },
  {
   "cell_type": "code",
   "execution_count": null,
   "metadata": {
    "slideshow": {
     "slide_type": "subslide"
    }
   },
   "outputs": [
    {
     "name": "stdout",
     "output_type": "stream",
     "text": [
      "Job Status: job has successfully run\n"
     ]
    }
   ],
   "source": [
    "from qiskit.tools.monitor import job_monitor\n",
    "job_monitor(real_job, interval=5)"
   ]
  },
  {
   "cell_type": "markdown",
   "metadata": {
    "slideshow": {
     "slide_type": "slide"
    }
   },
   "source": [
    "## Exercise 2.5 - random numbers generator\n",
    "Generate 100 random numbers from 0 to 127 using quantum computer."
   ]
  },
  {
   "cell_type": "code",
   "execution_count": 2,
   "metadata": {},
   "outputs": [
    {
     "name": "stdout",
     "output_type": "stream",
     "text": [
      "Random numbers: [65, 39, 78, 92, 42, 90, 68, 0, 4, 114]\n"
     ]
    }
   ],
   "source": [
    "from qiskit import QuantumCircuit, Aer, execute, IBMQ\n",
    "from qiskit.visualization import plot_histogram\n",
    "\n",
    "def generate_random_numbers(num_samples=100):\n",
    "    # Load IBM Q account if you're using a real device\n",
    "    # IBMQ.load_account()\n",
    "\n",
    "    # Create a Quantum Circuit with 7 qubits and 7 classical bits\n",
    "    circuit = QuantumCircuit(7, 7)\n",
    "\n",
    "    # Apply Hadamard gate to all qubits\n",
    "    circuit.h(range(7))\n",
    "\n",
    "    # Measure all qubits\n",
    "    circuit.measure(range(7), range(7))\n",
    "\n",
    "    # Select a backend (use a real quantum computer or simulator)\n",
    "    # For real device: backend = IBMQ.get_provider('ibm-q').get_backend('ibmq_manila')\n",
    "    backend = Aer.get_backend('qasm_simulator')\n",
    "\n",
    "    # Execute the circuit on the backend to get num_samples random numbers\n",
    "    job = execute(circuit, backend, shots=num_samples)\n",
    "    result = job.result()\n",
    "\n",
    "    # Convert binary results to decimal\n",
    "    counts = result.get_counts(circuit)\n",
    "    random_numbers = [int(binary, 2) for binary, count in counts.items() for _ in range(count)]\n",
    "\n",
    "    return random_numbers[:num_samples]\n",
    "\n",
    "# Generate 100 random numbers\n",
    "random_numbers = generate_random_numbers(10)\n",
    "print(\"Random numbers:\", random_numbers)"
   ]
  },
  {
   "cell_type": "markdown",
   "metadata": {
    "slideshow": {
     "slide_type": "slide"
    }
   },
   "source": [
    "# HOMEWORK"
   ]
  },
  {
   "cell_type": "markdown",
   "metadata": {
    "slideshow": {
     "slide_type": "fragment"
    }
   },
   "source": [
    "## Homework 1\n",
    "\n",
    "Write qiskit circuit introducing the superposition of the binary representation of first letters of your name and surname.\n",
    "\n",
    "Write Matplotlib plot visualizing the result.\n",
    "\n",
    "Do the visualization when run on simulator.\n",
    "Then run on real hardware limiting to 5 qubits and adding fixed constant qubits later on.\n",
    "\n",
    "**Send this to me at Tomasz.Stopa@pl.ibm.com BEFORE the next meeting.**\n"
   ]
  },
  {
   "cell_type": "code",
   "execution_count": 3,
   "metadata": {
    "scrolled": true,
    "slideshow": {
     "slide_type": "fragment"
    }
   },
   "outputs": [
    {
     "data": {
      "image/png": "[encoded data removed]",
      "text/plain": [
       "<Figure size 640x480 with 1 Axes>"
      ]
     },
     "metadata": {},
     "output_type": "display_data"
    }
   ],
   "source": [
    "# Hint:\n",
    "\n",
    "import matplotlib.pyplot as plt\n",
    "plt.rc('font', family='monospace')\n",
    "plt.annotate('Rabbit', (0.5,0.5), va=\"center\", ha=\"center\", color = (0,0,0,0.1), size = 300)\n",
    "plt.annotate('Duck', (0.5,0.5), va=\"center\", ha=\"center\", color = (0,0,0,0.8), size = 300)\n",
    "plt.axis('off')\n",
    "plt.show()"
   ]
  },
  {
   "cell_type": "code",
   "execution_count": 23,
   "metadata": {},
   "outputs": [
    {
     "name": "stdout",
     "output_type": "stream",
     "text": [
      "T = 10100 Calculate_T = 10100 True\n",
      "S = 10011 Calculate_S = 10011 True\n"
     ]
    },
    {
     "data": {
      "image/png": "[encoded data removed]",
      "text/plain": [
       "<Figure size 640x480 with 1 Axes>"
      ]
     },
     "metadata": {},
     "output_type": "display_data"
    }
   ],
   "source": [
    "from qiskit import *\n",
    "from qiskit.tools.visualization import plot_histogram\n",
    "import matplotlib.pyplot as plt\n",
    "\n",
    "\n",
    "\n",
    "from qiskit import QuantumRegister, ClassicalRegister, QuantumCircuit\n",
    "from numpy import pi\n",
    "\n",
    "qreg_q = QuantumRegister(5, 'q')\n",
    "creg_c = ClassicalRegister(5, 'c')\n",
    "circuit = QuantumCircuit(qreg_q, creg_c)\n",
    "\n",
    "circuit.h(qreg_q[0])\n",
    "circuit.cx(qreg_q[0], qreg_q[1])\n",
    "circuit.x(qreg_q[4])\n",
    "circuit.cx(qreg_q[1], qreg_q[2])\n",
    "circuit.x(qreg_q[2])\n",
    "circuit.measure(qreg_q[0], creg_c[0])\n",
    "circuit.measure(qreg_q[1], creg_c[1])\n",
    "circuit.measure(qreg_q[2], creg_c[2])\n",
    "circuit.measure(qreg_q[3], creg_c[3])\n",
    "circuit.measure(qreg_q[4], creg_c[4])\n",
    "# @columns [0,1,2,3,4,5,6,7,8,9]\n",
    "\n",
    "\n",
    "\n",
    "shots = 1024\n",
    "backend = BasicAer.get_backend('qasm_simulator')\n",
    "job = execute(circuit, backend=backend, shots=shots)\n",
    "result = job.result()\n",
    "T=format(ord('T'), '08b')\n",
    "S=format(ord('S'), '08b')\n",
    "Calculate_T = list(result.get_counts().keys())[0]\n",
    "Calculate_S = list(result.get_counts().keys())[1]\n",
    "print(f\"T = {T[-5:]} Calculate_T = {Calculate_T} {Calculate_T == T[-5:]}\")\n",
    "print(f\"S = {S[-5:]} Calculate_S = {Calculate_S} {Calculate_S == S[-5:]}\")\n",
    "plot_histogram(result.get_counts())\n",
    "\n",
    "new_result = {}\n",
    "for binary_key, value in result.get_counts().items():\n",
    "    ascii_code = int(\"010\"+binary_key, 2)\n",
    "    char_key = chr(ascii_code)\n",
    "    new_result[char_key] = value\n",
    "plot_histogram(new_result)\n",
    "\n",
    "plt.rc('font', family='monospace')\n",
    "for binary_key, value in result.get_counts().items():\n",
    "    ascii_code = int(\"010\"+binary_key, 2)\n",
    "    char_key = chr(ascii_code)\n",
    "    new_result[char_key] = value\n",
    "    plt.annotate(char_key, (0.5,0.5), va=\"center\", ha=\"center\", color = (0,0,0,value/shots), size = 300)\n",
    "plt.axis('off')\n",
    "plt.show()"
   ]
  },
  {
   "cell_type": "code",
   "execution_count": 24,
   "metadata": {},
   "outputs": [
    {
     "name": "stdout",
     "output_type": "stream",
     "text": [
      "T = 01010100 Calculate_T = 10100 True\n",
      "S = 01010011 Calculate_S = 10011 True\n"
     ]
    },
    {
     "data": {
      "image/png": "[encoded data removed]",
      "text/plain": [
       "<Figure size 1500x500 with 3 Axes>"
      ]
     },
     "metadata": {},
     "output_type": "display_data"
    }
   ],
   "source": [
    "from qiskit import *\n",
    "from qiskit.tools.visualization import plot_histogram\n",
    "import matplotlib.pyplot as plt\n",
    "\n",
    "\n",
    "\n",
    "from qiskit import QuantumRegister, ClassicalRegister, QuantumCircuit\n",
    "from numpy import pi\n",
    "\n",
    "qreg_q = QuantumRegister(5, 'q')\n",
    "creg_c = ClassicalRegister(5, 'c')\n",
    "circuit = QuantumCircuit(qreg_q, creg_c)\n",
    "\n",
    "circuit.h(qreg_q[0])\n",
    "circuit.cx(qreg_q[0], qreg_q[1])\n",
    "circuit.x(qreg_q[4])\n",
    "circuit.cx(qreg_q[1], qreg_q[2])\n",
    "circuit.x(qreg_q[2])\n",
    "circuit.measure(qreg_q[0], creg_c[0])\n",
    "circuit.measure(qreg_q[1], creg_c[1])\n",
    "circuit.measure(qreg_q[2], creg_c[2])\n",
    "circuit.measure(qreg_q[3], creg_c[3])\n",
    "circuit.measure(qreg_q[4], creg_c[4])\n",
    "# @columns [0,1,2,3,4,5,6,7,8,9]\n",
    "\n",
    "\n",
    "\n",
    "shots = 1024\n",
    "backend = BasicAer.get_backend('qasm_simulator')\n",
    "job = execute(circuit, backend=backend, shots=shots)\n",
    "result = job.result()\n",
    "T=format(ord('T'), '08b')\n",
    "S=format(ord('S'), '08b')\n",
    "Calculate_T = list(result.get_counts().keys())[0]\n",
    "Calculate_S = list(result.get_counts().keys())[1]\n",
    "print(f\"T = {T} Calculate_T = {Calculate_T} {Calculate_T == T[-5:]}\")\n",
    "print(f\"S = {S} Calculate_S = {Calculate_S} {Calculate_S == S[-5:]}\")\n",
    "\n",
    "new_result = {}\n",
    "for binary_key, value in result.get_counts().items():\n",
    "    ascii_code = int(\"010\"+binary_key, 2)\n",
    "    char_key = chr(ascii_code)\n",
    "    new_result[char_key] = value\n",
    "\n",
    "fig, axs = plt.subplots(1, 3, figsize=(15, 5))\n",
    "\n",
    "axs[0].set_title(\"Original Histogram\")\n",
    "plot_histogram(result.get_counts(), ax=axs[0])\n",
    "\n",
    "axs[1].set_title(\"Modified Histogram\")\n",
    "plot_histogram(new_result, ax=axs[1])\n",
    "\n",
    "axs[2].set_title(\"Text Representation\")\n",
    "axs[2].axis('off')\n",
    "for binary_key, value in result.get_counts().items():\n",
    "    ascii_code = int(\"010\"+binary_key, 2)\n",
    "    char_key = chr(ascii_code)\n",
    "    axs[2].annotate(char_key, (0.5, 0.5), va=\"center\", ha=\"center\", \n",
    "                    color=(0, 0, 0, value/shots), size=300)\n",
    "\n",
    "plt.show()"
   ]
  },
  {
   "cell_type": "code",
   "execution_count": 26,
   "metadata": {},
   "outputs": [],
   "source": [
    "from qiskit import IBMQ\n",
    "\n",
    "# IBMQ.save_account('', overwrite=True)\n",
    "provider = IBMQ.load_account()\n",
    "real_backend = provider.get_backend('ibm_nairobi')"
   ]
  },
  {
   "cell_type": "code",
   "execution_count": null,
   "metadata": {},
   "outputs": [],
   "source": [
    "from qiskit import *\n",
    "from qiskit.tools.visualization import plot_histogram\n",
    "import matplotlib.pyplot as plt\n",
    "\n",
    "\n",
    "\n",
    "from qiskit import QuantumRegister, ClassicalRegister, QuantumCircuit\n",
    "from numpy import pi\n",
    "\n",
    "qreg_q = QuantumRegister(5, 'q')\n",
    "creg_c = ClassicalRegister(5, 'c')\n",
    "circuit = QuantumCircuit(qreg_q, creg_c)\n",
    "\n",
    "circuit.h(qreg_q[0])\n",
    "circuit.cx(qreg_q[0], qreg_q[1])\n",
    "circuit.x(qreg_q[4])\n",
    "circuit.cx(qreg_q[1], qreg_q[2])\n",
    "circuit.x(qreg_q[2])\n",
    "circuit.measure(qreg_q[0], creg_c[0])\n",
    "circuit.measure(qreg_q[1], creg_c[1])\n",
    "circuit.measure(qreg_q[2], creg_c[2])\n",
    "circuit.measure(qreg_q[3], creg_c[3])\n",
    "circuit.measure(qreg_q[4], creg_c[4])\n",
    "# @columns [0,1,2,3,4,5,6,7,8,9]\n",
    "\n",
    "\n",
    "\n",
    "shots = 1024\n",
    "backend = BasicAer.get_backend('qasm_simulator')\n",
    "job = execute(circuit, backend=real_backend, shots=shots)\n",
    "result = job.result()\n",
    "T=format(ord('T'), '08b')\n",
    "S=format(ord('S'), '08b')\n",
    "Calculate_T = list(result.get_counts().keys())[0]\n",
    "Calculate_S = list(result.get_counts().keys())[1]\n",
    "print(f\"T = {T} Calculate_T = {Calculate_T} {Calculate_T == T[-5:]}\")\n",
    "print(f\"S = {S} Calculate_S = {Calculate_S} {Calculate_S == S[-5:]}\")\n",
    "\n",
    "new_result = {}\n",
    "for binary_key, value in result.get_counts().items():\n",
    "    ascii_code = int(\"010\"+binary_key, 2)\n",
    "    char_key = chr(ascii_code)\n",
    "    new_result[char_key] = value\n",
    "\n",
    "fig, axs = plt.subplots(1, 3, figsize=(15, 5))\n",
    "\n",
    "axs[0].set_title(\"Original Histogram\")\n",
    "plot_histogram(result.get_counts(), ax=axs[0])\n",
    "\n",
    "axs[1].set_title(\"Modified Histogram\")\n",
    "plot_histogram(new_result, ax=axs[1])\n",
    "\n",
    "axs[2].set_title(\"Text Representation\")\n",
    "axs[2].axis('off')\n",
    "for binary_key, value in result.get_counts().items():\n",
    "    ascii_code = int(\"010\"+binary_key, 2)\n",
    "    char_key = chr(ascii_code)\n",
    "    axs[2].annotate(char_key, (0.5, 0.5), va=\"center\", ha=\"center\", \n",
    "                    color=(0, 0, 0, value/shots), size=300)\n",
    "\n",
    "plt.show()"
   ]
  },
  {
   "cell_type": "markdown",
   "metadata": {},
   "source": [
    "# Homework 2\n",
    "\n",
    "Get familiar with announcements from Quantum Summit last week: https://newsroom.ibm.com/2022-11-09-IBM-Unveils-400-Qubit-Plus-Quantum-Processor-and-Next-Generation-IBM-Quantum-System-Two"
   ]
  }
 ],
 "metadata": {
  "celltoolbar": "Slideshow",
  "kernelspec": {
   "display_name": "Python 3 (ipykernel)",
   "language": "python",
   "name": "python3"
  },
  "language_info": {
   "codemirror_mode": {
    "name": "ipython",
    "version": 3
   },
   "file_extension": ".py",
   "mimetype": "text/x-python",
   "name": "python",
   "nbconvert_exporter": "python",
   "pygments_lexer": "ipython3",
   "version": "3.10.8"
  },
  "rise": {
   "enable_chalkboard": true,
   "scroll": true
  }
 },
 "nbformat": 4,
 "nbformat_minor": 2
}
