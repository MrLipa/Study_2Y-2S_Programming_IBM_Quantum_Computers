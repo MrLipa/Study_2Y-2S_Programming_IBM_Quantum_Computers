{
 "cells": [
  {
   "cell_type": "markdown",
   "metadata": {
    "slideshow": {
     "slide_type": "slide"
    }
   },
   "source": [
    "## Plan of the module 2:\n",
    "\n",
    "1. Deutsch algorithm overview\n",
    "1. Deutsch algorithm - implementation using quantum composer\n",
    "1. Deutsch-Jozsa algorithm and it's implementation using quantum composer\n",
    "1. Introduction to Qiskit with exercises\n",
    "1. Homework"
   ]
  },
  {
   "cell_type": "markdown",
   "metadata": {},
   "source": [
    "# Deutsch algorithm\n",
    "* Theoretical explanation and proof.\n",
    "* implementation in quantum composer."
   ]
  },
  {
   "cell_type": "markdown",
   "metadata": {},
   "source": [
    "# Deutsch-Jozsa algorithm"
   ]
  },
  {
   "cell_type": "markdown",
   "metadata": {},
   "source": [
    "In a case of 2 input qubits, we have 16 possible binary functions.\n",
    "Each of them gives 0 or 1 for one of 4 possible input sequences: 00, 01, 10, 11.\n",
    "\n",
    "We'll use quantum composer to implement Deutsch-Jozsa algorithms for various Oracle functions."
   ]
  },
  {
   "cell_type": "markdown",
   "metadata": {},
   "source": [
    "Let's implement Deutch-Jozsa function which assignes 0,1,1,0 to each of the possible input sequences of two bits (respectively 00, 01, 10, 11). \n",
    "\n",
    "This is the function of adding modulo 2."
   ]
  },
  {
   "attachments": {
    "Module_1_Deutsch-Jozsa_balanced_0110.png": {
     "image/png": "[encoded data removed]"
    }
   },
   "cell_type": "markdown",
   "metadata": {},
   "source": [
    "![Module_1_Deutsch-Jozsa_balanced_0110.png](attachment:Module_1_Deutsch-Jozsa_balanced_0110.png)"
   ]
  },
  {
   "cell_type": "markdown",
   "metadata": {},
   "source": [
    "## Exercise 2.1: \n",
    "* Create the above circuit in quantum composer\n",
    "* Verify based on the results of running this circuit, that the oracle function is balanced\n",
    "* Prove, that the two CNOT gates indeed implement actually the 0110 function (adding modulo 2)"
   ]
  },
  {
   "cell_type": "markdown",
   "metadata": {},
   "source": [
    "## Exercise 2.2: \n",
    "Create a Deutsch-Jozsa circuit where oracle function acting on two qubits has values 0,1,0,1 respectively for 00, 01, 10, 11 as input."
   ]
  },
  {
   "cell_type": "markdown",
   "metadata": {},
   "source": [
    "## Exercise 2.3:\n",
    "Create Deutsch-Jozsa circuit implementing the two possible constant functions as an oracle."
   ]
  },
  {
   "cell_type": "markdown",
   "metadata": {},
   "source": [
    "# Introduction to Qiskit"
   ]
  },
  {
   "cell_type": "markdown",
   "metadata": {
    "slideshow": {
     "slide_type": "slide"
    }
   },
   "source": [
    "#### Programming SDKs for quantum computers (QSDKs) that exist today:\n",
    "1. IBM - <b>Qiskit</b> (Python, https://github.com/Qiskit/)\n",
    "2. Google - <b>Cirq</b> (Python, https://github.com/quantumlib/Cirq)\n",
    "3. Rigetti - <b>PyQuil</b> (Python, https://github.com/rigetti/pyquil)\n",
    "4. Microsoft - <b>Microsoft Quantum Development Kit</b> (Q#, https://github.com/microsoft/Quantum)\n",
    "5. ETH Zurich - <b>Project Q</b> (Python, https://github.com/ProjectQ-Framework/ProjectQ)"
   ]
  },
  {
   "cell_type": "markdown",
   "metadata": {
    "slideshow": {
     "slide_type": "fragment"
    }
   },
   "source": [
    "#### Quantum Open Source Foundation (QOSF): [https://qosf.org/](https://qosf.org/)"
   ]
  },
  {
   "cell_type": "markdown",
   "metadata": {
    "slideshow": {
     "slide_type": "slide"
    }
   },
   "source": [
    "## References - or from where to learn:\n",
    "\n",
    "* [https://github.com/qiskit](https://github.com/qiskit)\n",
    "\n",
    "* [https://qiskit.org/](https://qiskit.org/)\n",
    "    * In particular [https://qiskit.org/textbook](https://qiskit.org/textbook)\n",
    "    * and https://qiskit.org/textbook-beta/\n",
    "    * In general [https://qiskit.org/learn/](https://qiskit.org/learn/)\n",
    "\n",
    "* [https://qiskit.org/documentation/](https://qiskit.org/documentation/)\n",
    "\n",
    "* [Qiskit documentation tutorials](https://qiskit.org/documentation/tutorials/circuits/)\n",
    "\n",
    "* finally, if you like to learn from YouTube ;) - https://www.youtube.com/c/qiskit\n"
   ]
  },
  {
   "cell_type": "code",
   "execution_count": 1,
   "metadata": {
    "scrolled": false,
    "slideshow": {
     "slide_type": "slide"
    }
   },
   "outputs": [
    {
     "data": {
      "text/html": [
       "<h3>Version Information</h3><table><tr><th>Software</th><th>Version</th></tr><tr><td><code>qiskit</code></td><td>0.44.1</td></tr><tr><td><code>qiskit-terra</code></td><td>0.25.1</td></tr><tr><th colspan='2'>System information</th></tr><tr><td>Python version</td><td>3.11.4</td></tr><tr><td>Python compiler</td><td>MSC v.1916 64 bit (AMD64)</td></tr><tr><td>Python build</td><td>main, Jul  5 2023 13:38:37</td></tr><tr><td>OS</td><td>Windows</td></tr><tr><td>CPUs</td><td>4</td></tr><tr><td>Memory (Gb)</td><td>15.756675720214844</td></tr><tr><td colspan='2'>Wed Sep 27 21:11:51 2023 Central European Daylight Time</td></tr></table>"
      ],
      "text/plain": [
       "<IPython.core.display.HTML object>"
      ]
     },
     "metadata": {},
     "output_type": "display_data"
    },
    {
     "data": {
      "text/html": [
       "<div style='width: 100%; background-color:#d5d9e0;padding-left: 10px; padding-bottom: 10px; padding-right: 10px; padding-top: 5px'><h3>This code is a part of Qiskit</h3><p>&copy; Copyright IBM 2017, 2023.</p><p>This code is licensed under the Apache License, Version 2.0. You may<br>obtain a copy of this license in the LICENSE.txt file in the root directory<br> of this source tree or at http://www.apache.org/licenses/LICENSE-2.0.<p>Any modifications or derivative works of this code must retain this<br>copyright notice, and modified files need to carry a notice indicating<br>that they have been altered from the originals.</p></div>"
      ],
      "text/plain": [
       "<IPython.core.display.HTML object>"
      ]
     },
     "metadata": {},
     "output_type": "display_data"
    }
   ],
   "source": [
    "import qiskit.tools.jupyter\n",
    "%qiskit_version_table\n",
    "%qiskit_copyright  "
   ]
  },
  {
   "cell_type": "code",
   "execution_count": null,
   "metadata": {
    "slideshow": {
     "slide_type": "subslide"
    }
   },
   "outputs": [],
   "source": [
    "import qiskit\n",
    "qiskit.__qiskit_version__"
   ]
  },
  {
   "cell_type": "code",
   "execution_count": 2,
   "metadata": {
    "slideshow": {
     "slide_type": "slide"
    }
   },
   "outputs": [
    {
     "name": "stdout",
     "output_type": "stream",
     "text": [
      "{'11': 531, '00': 493}\n"
     ]
    }
   ],
   "source": [
    "from qiskit import QuantumCircuit\n",
    "from qiskit.providers.aer import QasmSimulator\n",
    "\n",
    "circuit = QuantumCircuit(2, 2)\n",
    "\n",
    "circuit.h(0)\n",
    "circuit.cx(0, 1)\n",
    "circuit.measure(0, 0) \n",
    "circuit.measure(1, 1)\n",
    "\n",
    "backend = QasmSimulator()\n",
    "\n",
    "job = backend.run(circuit)\n",
    "\n",
    "result = job.result()\n",
    "counts = result.get_counts(circuit)\n",
    "\n",
    "print(counts)"
   ]
  },
  {
   "cell_type": "code",
   "execution_count": 7,
   "metadata": {
    "slideshow": {
     "slide_type": "subslide"
    }
   },
   "outputs": [
    {
     "data": {
      "image/png": "[encoded data removed]",
      "text/plain": [
       "<Figure size 504x360 with 1 Axes>"
      ]
     },
     "execution_count": 7,
     "metadata": {},
     "output_type": "execute_result"
    }
   ],
   "source": [
    "from qiskit.visualization import plot_histogram\n",
    "plot_histogram(counts)"
   ]
  },
  {
   "cell_type": "markdown",
   "metadata": {
    "slideshow": {
     "slide_type": "subslide"
    }
   },
   "source": [
    "Measurements\n",
    "\n",
    "`circuit.measure([0,1], [0,1])`\n",
    "\n",
    "Not all quibits need to be measured.\n",
    "\n",
    "Number of bits in classical register does not need to be equal to number of qubits."
   ]
  },
  {
   "cell_type": "markdown",
   "metadata": {
    "slideshow": {
     "slide_type": "subslide"
    }
   },
   "source": [
    "Running the circuit on chosen backend:\n",
    "\n",
    "`job = backend.run(circuit, shots=3000)`\n",
    "\n",
    "`job = execute(circuit, backend, shots=4321)`"
   ]
  },
  {
   "cell_type": "markdown",
   "metadata": {
    "slideshow": {
     "slide_type": "subslide"
    }
   },
   "source": [
    "Running jobs with remembering individual shots/runs:\n",
    "\n",
    "`job = execute(circuit, backend, shots=20, memory=True)`\n",
    "\n",
    "`data = job.result().get_memory()`\n",
    "\n",
    "`print(data)`"
   ]
  },
  {
   "cell_type": "code",
   "execution_count": 8,
   "metadata": {
    "slideshow": {
     "slide_type": "subslide"
    }
   },
   "outputs": [
    {
     "data": {
      "text/html": [
       "<pre style=\"word-wrap: normal;white-space: pre;background: #fff0;line-height: 1.1;font-family: &quot;Courier New&quot;,Courier,monospace\">     ┌───┐     ┌─┐   \n",
       "q_0: ┤ H ├──■──┤M├───\n",
       "     └───┘┌─┴─┐└╥┘┌─┐\n",
       "q_1: ─────┤ X ├─╫─┤M├\n",
       "          └───┘ ║ └╥┘\n",
       "c_0: ═══════════╩══╬═\n",
       "                   ║ \n",
       "c_1: ══════════════╩═\n",
       "                     </pre>"
      ],
      "text/plain": [
       "     ┌───┐     ┌─┐   \n",
       "q_0: ┤ H ├──■──┤M├───\n",
       "     └───┘┌─┴─┐└╥┘┌─┐\n",
       "q_1: ─────┤ X ├─╫─┤M├\n",
       "          └───┘ ║ └╥┘\n",
       "c_0: ═══════════╩══╬═\n",
       "                   ║ \n",
       "c_1: ══════════════╩═\n",
       "                     "
      ]
     },
     "execution_count": 8,
     "metadata": {},
     "output_type": "execute_result"
    }
   ],
   "source": [
    "%matplotlib inline\n",
    "circuit.draw()"
   ]
  },
  {
   "cell_type": "code",
   "execution_count": 9,
   "metadata": {
    "slideshow": {
     "slide_type": "subslide"
    }
   },
   "outputs": [
    {
     "data": {
      "image/png": "[encoded data removed]",
      "text/plain": [
       "<Figure size 327.252x204.68 with 1 Axes>"
      ]
     },
     "execution_count": 9,
     "metadata": {},
     "output_type": "execute_result"
    }
   ],
   "source": [
    "circuit.draw('mpl')"
   ]
  },
  {
   "cell_type": "markdown",
   "metadata": {
    "slideshow": {
     "slide_type": "slide"
    }
   },
   "source": [
    "## Exercise 2.4 - coin flip simulation\n",
    "Write program in Qiskit which will generate N random bit values (0 or 1) using Hadamard gate and quantum simulator.\n",
    "Hadamard gate puts the qubit (initialized in |0>) in a superposition of |0> and |1> states. Subsequent measurement gives equal probability of getting 0 and 1. N is a parameter which can be set for any number.\n",
    "We use simulator, which means the numbers are not really random (are pseudo-random), but in subsequent exercise we will use real quantum computer for generating really random numbers."
   ]
  },
  {
   "cell_type": "markdown",
   "metadata": {
    "slideshow": {
     "slide_type": "slide"
    }
   },
   "source": [
    "## Providers and Backends"
   ]
  },
  {
   "cell_type": "markdown",
   "metadata": {
    "slideshow": {
     "slide_type": "subslide"
    }
   },
   "source": [
    "Provider\n",
    "- entity that provides access to group of backends\n",
    "- Qiskit includes 2 providers: `Aer` and `IBMQ`\n",
    "- implements:\n",
    "    - `backends()`\n",
    "    - `get_backend(name)`"
   ]
  },
  {
   "cell_type": "markdown",
   "metadata": {
    "slideshow": {
     "slide_type": "subslide"
    }
   },
   "source": [
    "Backend\n",
    "- represents either simulator or real quantum computer\n",
    "- inherits from `BaseBackend`\n",
    "- implements:\n",
    "    - `run(qobj)`\n",
    "    - `configuration()`\n",
    "    - `properties()`\n",
    "    - `name()`\n",
    "    - `status()`"
   ]
  },
  {
   "cell_type": "markdown",
   "metadata": {
    "slideshow": {
     "slide_type": "slide"
    }
   },
   "source": [
    "## Account and token"
   ]
  },
  {
   "cell_type": "markdown",
   "metadata": {
    "slideshow": {
     "slide_type": "subslide"
    }
   },
   "source": [
    "`IBMQ.save_account('<TOKEN>')`\n",
    "\n",
    "If account is already saved, it can be overwritten with:\n",
    "\n",
    "`IBMQ.save_account('<TOKEN>', overwrite=True)`\n",
    "\n",
    "`IBMQ.stored_account()` - shows what account is stored on the machine\n",
    "\n",
    "`IBMQ.delete_account()` - deletes currently stored account\n",
    "\n",
    "More details: https://quantum-computing.ibm.com/lab/docs/iql/manage/account/ibmq"
   ]
  },
  {
   "cell_type": "code",
   "execution_count": 10,
   "metadata": {
    "slideshow": {
     "slide_type": "subslide"
    }
   },
   "outputs": [
    {
     "data": {
      "text/plain": [
       "[]"
      ]
     },
     "execution_count": 10,
     "metadata": {},
     "output_type": "execute_result"
    }
   ],
   "source": [
    "from qiskit import IBMQ\n",
    "IBMQ.providers()"
   ]
  },
  {
   "cell_type": "code",
   "execution_count": 11,
   "metadata": {
    "slideshow": {
     "slide_type": "subslide"
    }
   },
   "outputs": [],
   "source": [
    "provider = IBMQ.load_account()"
   ]
  },
  {
   "cell_type": "code",
   "execution_count": 12,
   "metadata": {
    "slideshow": {
     "slide_type": "subslide"
    }
   },
   "outputs": [
    {
     "data": {
      "text/plain": [
       "[<AccountProvider for IBMQ(hub='ibm-q', group='open', project='main')>]"
      ]
     },
     "execution_count": 12,
     "metadata": {},
     "output_type": "execute_result"
    }
   ],
   "source": [
    "IBMQ.providers()"
   ]
  },
  {
   "cell_type": "code",
   "execution_count": 13,
   "metadata": {
    "slideshow": {
     "slide_type": "slide"
    }
   },
   "outputs": [
    {
     "data": {
      "text/plain": [
       "[<IBMQSimulator('ibmq_qasm_simulator') from IBMQ(hub='ibm-q', group='open', project='main')>,\n",
       " <IBMQBackend('ibmq_lima') from IBMQ(hub='ibm-q', group='open', project='main')>,\n",
       " <IBMQBackend('ibmq_belem') from IBMQ(hub='ibm-q', group='open', project='main')>,\n",
       " <IBMQBackend('ibmq_quito') from IBMQ(hub='ibm-q', group='open', project='main')>,\n",
       " <IBMQSimulator('simulator_statevector') from IBMQ(hub='ibm-q', group='open', project='main')>,\n",
       " <IBMQSimulator('simulator_mps') from IBMQ(hub='ibm-q', group='open', project='main')>,\n",
       " <IBMQSimulator('simulator_extended_stabilizer') from IBMQ(hub='ibm-q', group='open', project='main')>,\n",
       " <IBMQSimulator('simulator_stabilizer') from IBMQ(hub='ibm-q', group='open', project='main')>,\n",
       " <IBMQBackend('ibmq_manila') from IBMQ(hub='ibm-q', group='open', project='main')>,\n",
       " <IBMQBackend('ibm_nairobi') from IBMQ(hub='ibm-q', group='open', project='main')>,\n",
       " <IBMQBackend('ibm_oslo') from IBMQ(hub='ibm-q', group='open', project='main')>]"
      ]
     },
     "execution_count": 13,
     "metadata": {},
     "output_type": "execute_result"
    }
   ],
   "source": [
    "provider.backends()"
   ]
  },
  {
   "cell_type": "code",
   "execution_count": 14,
   "metadata": {
    "slideshow": {
     "slide_type": "slide"
    }
   },
   "outputs": [
    {
     "name": "stdout",
     "output_type": "stream",
     "text": [
      "{'backend_name': 'ibmq_qasm_simulator', 'backend_version': '0.1.547', 'operational': True, 'pending_jobs': 1, 'status_msg': 'active'}\n",
      "{'backend_name': 'ibmq_lima', 'backend_version': '1.0.40', 'operational': True, 'pending_jobs': 526, 'status_msg': 'active'}\n",
      "{'backend_name': 'ibmq_belem', 'backend_version': '1.0.52', 'operational': True, 'pending_jobs': 63, 'status_msg': 'active'}\n",
      "{'backend_name': 'ibmq_quito', 'backend_version': '1.1.35', 'operational': True, 'pending_jobs': 9, 'status_msg': 'active'}\n",
      "{'backend_name': 'simulator_statevector', 'backend_version': '0.1.547', 'operational': True, 'pending_jobs': 1, 'status_msg': 'active'}\n",
      "{'backend_name': 'simulator_mps', 'backend_version': '0.1.547', 'operational': True, 'pending_jobs': 1, 'status_msg': 'active'}\n",
      "{'backend_name': 'simulator_extended_stabilizer', 'backend_version': '0.1.547', 'operational': True, 'pending_jobs': 1, 'status_msg': 'active'}\n",
      "{'backend_name': 'simulator_stabilizer', 'backend_version': '0.1.547', 'operational': True, 'pending_jobs': 1, 'status_msg': 'active'}\n",
      "{'backend_name': 'ibmq_manila', 'backend_version': '1.1.0', 'operational': True, 'pending_jobs': 110, 'status_msg': 'active'}\n",
      "{'backend_name': 'ibm_nairobi', 'backend_version': '1.2.0', 'operational': True, 'pending_jobs': 283, 'status_msg': 'active'}\n",
      "{'backend_name': 'ibm_oslo', 'backend_version': '1.0.14', 'operational': True, 'pending_jobs': 113, 'status_msg': 'active'}\n"
     ]
    }
   ],
   "source": [
    "for backend in provider.backends():\n",
    "    print(backend.status().to_dict())"
   ]
  },
  {
   "cell_type": "code",
   "execution_count": 15,
   "metadata": {
    "slideshow": {
     "slide_type": "slide"
    }
   },
   "outputs": [
    {
     "name": "stdout",
     "output_type": "stream",
     "text": [
      "ibm_oslo                     ibm_nairobi                  ibmq_manila\n",
      "--------                     -----------                  -----------\n",
      "Num. Qubits:  7              Num. Qubits:  7              Num. Qubits:  5\n",
      "Pending Jobs: 113            Pending Jobs: 282            Pending Jobs: 110\n",
      "Least busy:   False          Least busy:   False          Least busy:   False\n",
      "Operational:  True           Operational:  True           Operational:  True\n",
      "Avg. T1:      107.0          Avg. T1:      102.0          Avg. T1:      168.8\n",
      "Avg. T2:      109.2          Avg. T2:      94.1           Avg. T2:      50.8\n",
      "\n",
      "\n",
      "\n",
      "ibmq_quito                  ibmq_belem                   ibmq_lima\n",
      "----------                  ----------                   ---------\n",
      "Num. Qubits:  5             Num. Qubits:  5              Num. Qubits:  5\n",
      "Pending Jobs: 10            Pending Jobs: 63             Pending Jobs: 526\n",
      "Least busy:   True          Least busy:   False          Least busy:   False\n",
      "Operational:  True          Operational:  True           Operational:  True\n",
      "Avg. T1:      94.1          Avg. T1:      92.8           Avg. T1:      79.6\n",
      "Avg. T2:      85.1          Avg. T2:      112.7          Avg. T2:      94.4\n",
      "\n",
      "\n",
      "\n"
     ]
    }
   ],
   "source": [
    "from qiskit.tools.monitor import backend_overview, backend_monitor\n",
    "backend_overview()"
   ]
  },
  {
   "cell_type": "code",
   "execution_count": 16,
   "metadata": {
    "slideshow": {
     "slide_type": "slide"
    }
   },
   "outputs": [],
   "source": [
    "real_backend = provider.get_backend('ibmq_belem')"
   ]
  },
  {
   "cell_type": "code",
   "execution_count": 17,
   "metadata": {
    "slideshow": {
     "slide_type": "subslide"
    }
   },
   "outputs": [
    {
     "name": "stdout",
     "output_type": "stream",
     "text": [
      "{'acquisition_latency': [],\n",
      " 'allow_object_storage': True,\n",
      " 'allow_q_object': True,\n",
      " 'backend_name': 'ibmq_belem',\n",
      " 'backend_version': '1.0.52',\n",
      " 'basis_gates': ['id', 'rz', 'sx', 'x', 'cx', 'reset'],\n",
      " 'channels': {'acquire0': {'operates': {'qubits': [0]},\n",
      "                           'purpose': 'acquire',\n",
      "                           'type': 'acquire'},\n",
      "              'acquire1': {'operates': {'qubits': [1]},\n",
      "                           'purpose': 'acquire',\n",
      "                           'type': 'acquire'},\n",
      "              'acquire2': {'operates': {'qubits': [2]},\n",
      "                           'purpose': 'acquire',\n",
      "                           'type': 'acquire'},\n",
      "              'acquire3': {'operates': {'qubits': [3]},\n",
      "                           'purpose': 'acquire',\n",
      "                           'type': 'acquire'},\n",
      "              'acquire4': {'operates': {'qubits': [4]},\n",
      "                           'purpose': 'acquire',\n",
      "                           'type': 'acquire'},\n",
      "              'd0': {'operates': {'qubits': [0]},\n",
      "                     'purpose': 'drive',\n",
      "                     'type': 'drive'},\n",
      "              'd1': {'operates': {'qubits': [1]},\n",
      "                     'purpose': 'drive',\n",
      "                     'type': 'drive'},\n",
      "              'd2': {'operates': {'qubits': [2]},\n",
      "                     'purpose': 'drive',\n",
      "                     'type': 'drive'},\n",
      "              'd3': {'operates': {'qubits': [3]},\n",
      "                     'purpose': 'drive',\n",
      "                     'type': 'drive'},\n",
      "              'd4': {'operates': {'qubits': [4]},\n",
      "                     'purpose': 'drive',\n",
      "                     'type': 'drive'},\n",
      "              'm0': {'operates': {'qubits': [0]},\n",
      "                     'purpose': 'measure',\n",
      "                     'type': 'measure'},\n",
      "              'm1': {'operates': {'qubits': [1]},\n",
      "                     'purpose': 'measure',\n",
      "                     'type': 'measure'},\n",
      "              'm2': {'operates': {'qubits': [2]},\n",
      "                     'purpose': 'measure',\n",
      "                     'type': 'measure'},\n",
      "              'm3': {'operates': {'qubits': [3]},\n",
      "                     'purpose': 'measure',\n",
      "                     'type': 'measure'},\n",
      "              'm4': {'operates': {'qubits': [4]},\n",
      "                     'purpose': 'measure',\n",
      "                     'type': 'measure'},\n",
      "              'u0': {'operates': {'qubits': [0, 1]},\n",
      "                     'purpose': 'cross-resonance',\n",
      "                     'type': 'control'},\n",
      "              'u1': {'operates': {'qubits': [1, 0]},\n",
      "                     'purpose': 'cross-resonance',\n",
      "                     'type': 'control'},\n",
      "              'u2': {'operates': {'qubits': [1, 2]},\n",
      "                     'purpose': 'cross-resonance',\n",
      "                     'type': 'control'},\n",
      "              'u3': {'operates': {'qubits': [1, 3]},\n",
      "                     'purpose': 'cross-resonance',\n",
      "                     'type': 'control'},\n",
      "              'u4': {'operates': {'qubits': [2, 1]},\n",
      "                     'purpose': 'cross-resonance',\n",
      "                     'type': 'control'},\n",
      "              'u5': {'operates': {'qubits': [3, 1]},\n",
      "                     'purpose': 'cross-resonance',\n",
      "                     'type': 'control'},\n",
      "              'u6': {'operates': {'qubits': [3, 4]},\n",
      "                     'purpose': 'cross-resonance',\n",
      "                     'type': 'control'},\n",
      "              'u7': {'operates': {'qubits': [4, 3]},\n",
      "                     'purpose': 'cross-resonance',\n",
      "                     'type': 'control'}},\n",
      " 'clops': 2454,\n",
      " 'conditional': False,\n",
      " 'conditional_latency': [],\n",
      " 'coupling_map': [[0, 1],\n",
      "                  [1, 0],\n",
      "                  [1, 2],\n",
      "                  [1, 3],\n",
      "                  [2, 1],\n",
      "                  [3, 1],\n",
      "                  [3, 4],\n",
      "                  [4, 3]],\n",
      " 'credits_required': True,\n",
      " 'default_rep_delay': 250.0,\n",
      " 'description': '5 qubit device Belem',\n",
      " 'discriminators': ['hw_centroid',\n",
      "                    'quadratic_discriminator',\n",
      "                    'linear_discriminator'],\n",
      " 'dt': 0.2222222222222222,\n",
      " 'dtm': 0.2222222222222222,\n",
      " 'dynamic_reprate_enabled': True,\n",
      " 'gates': [{'coupling_map': [[0], [1], [2], [3], [4]],\n",
      "            'name': 'id',\n",
      "            'parameters': [],\n",
      "            'qasm_def': 'gate id q { U(0, 0, 0) q; }'},\n",
      "           {'coupling_map': [[0], [1], [2], [3], [4]],\n",
      "            'name': 'rz',\n",
      "            'parameters': ['theta'],\n",
      "            'qasm_def': 'gate rz(theta) q { U(0, 0, theta) q; }'},\n",
      "           {'coupling_map': [[0], [1], [2], [3], [4]],\n",
      "            'name': 'sx',\n",
      "            'parameters': [],\n",
      "            'qasm_def': 'gate sx q { U(pi/2, 3*pi/2, pi/2) q; }'},\n",
      "           {'coupling_map': [[0], [1], [2], [3], [4]],\n",
      "            'name': 'x',\n",
      "            'parameters': [],\n",
      "            'qasm_def': 'gate x q { U(pi, 0, pi) q; }'},\n",
      "           {'coupling_map': [[0, 1],\n",
      "                             [1, 0],\n",
      "                             [1, 2],\n",
      "                             [1, 3],\n",
      "                             [2, 1],\n",
      "                             [3, 1],\n",
      "                             [3, 4],\n",
      "                             [4, 3]],\n",
      "            'name': 'cx',\n",
      "            'parameters': [],\n",
      "            'qasm_def': 'gate cx q0, q1 { CX q0, q1; }'},\n",
      "           {'name': 'reset', 'parameters': None, 'qasm_def': None}],\n",
      " 'hamiltonian': {'description': 'Qubits are modeled as Duffing oscillators. In '\n",
      "                                'this case, the system includes higher energy '\n",
      "                                'states, i.e. not just |0> and |1>. The Pauli '\n",
      "                                'operators are generalized via the following '\n",
      "                                'set of transformations:\\n'\n",
      "                                '\\n'\n",
      "                                '$(\\\\mathbb{I}-\\\\sigma_{i}^z)/2 \\\\rightarrow '\n",
      "                                'O_i \\\\equiv b^\\\\dagger_{i} b_{i}$,\\n'\n",
      "                                '\\n'\n",
      "                                '$\\\\sigma_{+} \\\\rightarrow b^\\\\dagger$,\\n'\n",
      "                                '\\n'\n",
      "                                '$\\\\sigma_{-} \\\\rightarrow b$,\\n'\n",
      "                                '\\n'\n",
      "                                '$\\\\sigma_{i}^X \\\\rightarrow b^\\\\dagger_{i} + '\n",
      "                                'b_{i}$.\\n'\n",
      "                                '\\n'\n",
      "                                'Qubits are coupled through resonator buses. '\n",
      "                                'The provided Hamiltonian has been projected '\n",
      "                                'into the zero excitation subspace of the '\n",
      "                                'resonator buses leading to an effective '\n",
      "                                'qubit-qubit flip-flop interaction. The qubit '\n",
      "                                'resonance frequencies in the Hamiltonian are '\n",
      "                                'the cavity dressed frequencies and not '\n",
      "                                'exactly what is returned by the backend '\n",
      "                                'defaults, which also includes the dressing '\n",
      "                                'due to the qubit-qubit interactions.\\n'\n",
      "                                '\\n'\n",
      "                                'Quantities are returned in angular '\n",
      "                                'frequencies, with units 2*pi*GHz.\\n'\n",
      "                                '\\n'\n",
      "                                'WARNING: Currently not all system Hamiltonian '\n",
      "                                'information is available to the public, '\n",
      "                                'missing values have been replaced with 0.\\n',\n",
      "                 'h_latex': '\\\\begin{align} \\\\mathcal{H}/\\\\hbar = & '\n",
      "                            '\\\\sum_{i=0}^{4}\\\\left(\\\\frac{\\\\omega_{q,i}}{2}(\\\\mathbb{I}-\\\\sigma_i^{z})+\\\\frac{\\\\Delta_{i}}{2}(O_i^2-O_i)+\\\\Omega_{d,i}D_i(t)\\\\sigma_i^{X}\\\\right) '\n",
      "                            '\\\\\\\\ & + '\n",
      "                            'J_{0,1}(\\\\sigma_{0}^{+}\\\\sigma_{1}^{-}+\\\\sigma_{0}^{-}\\\\sigma_{1}^{+}) '\n",
      "                            '+ '\n",
      "                            'J_{1,2}(\\\\sigma_{1}^{+}\\\\sigma_{2}^{-}+\\\\sigma_{1}^{-}\\\\sigma_{2}^{+}) '\n",
      "                            '+ '\n",
      "                            'J_{1,3}(\\\\sigma_{1}^{+}\\\\sigma_{3}^{-}+\\\\sigma_{1}^{-}\\\\sigma_{3}^{+}) '\n",
      "                            '+ '\n",
      "                            'J_{3,4}(\\\\sigma_{3}^{+}\\\\sigma_{4}^{-}+\\\\sigma_{3}^{-}\\\\sigma_{4}^{+}) '\n",
      "                            '\\\\\\\\ & + '\n",
      "                            '\\\\Omega_{d,0}(U_{0}^{(0,1)}(t))\\\\sigma_{0}^{X} + '\n",
      "                            '\\\\Omega_{d,1}(U_{1}^{(1,0)}(t)+U_{3}^{(1,3)}(t)+U_{2}^{(1,2)}(t))\\\\sigma_{1}^{X} '\n",
      "                            '\\\\\\\\ & + '\n",
      "                            '\\\\Omega_{d,2}(U_{4}^{(2,1)}(t))\\\\sigma_{2}^{X} + '\n",
      "                            '\\\\Omega_{d,3}(U_{6}^{(3,4)}(t)+U_{5}^{(3,1)}(t))\\\\sigma_{3}^{X} '\n",
      "                            '\\\\\\\\ & + '\n",
      "                            '\\\\Omega_{d,4}(U_{7}^{(4,3)}(t))\\\\sigma_{4}^{X} '\n",
      "                            '\\\\\\\\ \\\\end{align}',\n",
      "                 'h_str': ['_SUM[i,0,4,wq{i}/2*(I{i}-Z{i})]',\n",
      "                           '_SUM[i,0,4,delta{i}/2*O{i}*O{i}]',\n",
      "                           '_SUM[i,0,4,-delta{i}/2*O{i}]',\n",
      "                           '_SUM[i,0,4,omegad{i}*X{i}||D{i}]',\n",
      "                           'jq0q1*Sp0*Sm1',\n",
      "                           'jq0q1*Sm0*Sp1',\n",
      "                           'jq1q2*Sp1*Sm2',\n",
      "                           'jq1q2*Sm1*Sp2',\n",
      "                           'jq1q3*Sp1*Sm3',\n",
      "                           'jq1q3*Sm1*Sp3',\n",
      "                           'jq3q4*Sp3*Sm4',\n",
      "                           'jq3q4*Sm3*Sp4',\n",
      "                           'omegad1*X0||U0',\n",
      "                           'omegad0*X1||U1',\n",
      "                           'omegad3*X1||U3',\n",
      "                           'omegad2*X1||U2',\n",
      "                           'omegad1*X2||U4',\n",
      "                           'omegad4*X3||U6',\n",
      "                           'omegad1*X3||U5',\n",
      "                           'omegad3*X4||U7'],\n",
      "                 'osc': {},\n",
      "                 'qub': {'0': 3, '1': 3, '2': 3, '3': 3, '4': 3},\n",
      "                 'vars': {'delta0': -2.1119231275656283,\n",
      "                          'delta1': -1.989081364755034,\n",
      "                          'delta2': -2.0773937776320905,\n",
      "                          'delta3': -2.096945401946966,\n",
      "                          'delta4': -2.0819029355928373,\n",
      "                          'jq0q1': 0.011772262300160973,\n",
      "                          'jq1q2': 0.012605700949390706,\n",
      "                          'jq1q3': 0.012591488659137172,\n",
      "                          'jq3q4': 0.01051661912410011,\n",
      "                          'omegad0': 0.7470363731551772,\n",
      "                          'omegad1': 0.7754768223933807,\n",
      "                          'omegad2': 1.8815097272092913,\n",
      "                          'omegad3': 0.7326203295731532,\n",
      "                          'omegad4': 0.017789833164454608,\n",
      "                          'wq0': 31.982749780766724,\n",
      "                          'wq1': 32.958639459128705,\n",
      "                          'wq2': 33.687311328087354,\n",
      "                          'wq3': 32.48607773915146,\n",
      "                          'wq4': 33.03965298549651}},\n",
      " 'input_allowed': ['job', 'runtime'],\n",
      " 'live_data': False,\n",
      " 'local': False,\n",
      " 'max_experiments': 100,\n",
      " 'max_shots': 20000,\n",
      " 'meas_kernels': ['hw_boxcar'],\n",
      " 'meas_levels': [1, 2],\n",
      " 'meas_lo_range': [[6.801574705, 7.801574705],\n",
      "                   [6.8934333720000005, 7.8934333720000005],\n",
      "                   [6.860065181, 7.860065181],\n",
      "                   [6.8033823270000005, 7.8033823270000005],\n",
      "                   [6.926223338000001, 7.926223338000001]],\n",
      " 'meas_map': [[0, 1, 2, 3, 4]],\n",
      " 'measure_esp_enabled': False,\n",
      " 'memory': True,\n",
      " 'multi_meas_enabled': True,\n",
      " 'n_qubits': 5,\n",
      " 'n_registers': 1,\n",
      " 'n_uchannels': 8,\n",
      " 'online_date': datetime.datetime(2021, 1, 8, 5, 0, tzinfo=tzutc()),\n",
      " 'open_pulse': False,\n",
      " 'parallel_compilation': False,\n",
      " 'parametric_pulses': ['gaussian', 'gaussian_square', 'drag', 'constant'],\n",
      " 'processor_type': {'family': 'Falcon', 'revision': 4, 'segment': 'T'},\n",
      " 'pulse_num_channels': 9,\n",
      " 'pulse_num_qubits': 3,\n",
      " 'quantum_volume': 16,\n",
      " 'qubit_channel_mapping': [['u0', 'u1', 'd0', 'm0'],\n",
      "                           ['u0', 'u2', 'u5', 'm1', 'u1', 'u3', 'u4', 'd1'],\n",
      "                           ['u2', 'm2', 'u4', 'd2'],\n",
      "                           ['u5', 'd3', 'u7', 'm3', 'u3', 'u6'],\n",
      "                           ['u7', 'd4', 'm4', 'u6']],\n",
      " 'qubit_lo_range': [[4.590212721280256, 5.590212721280257],\n",
      "                    [4.745530387503925, 5.745530387503925],\n",
      "                    [4.861502117340704, 5.861502117340704],\n",
      "                    [4.670319853853539, 5.670319853853539],\n",
      "                    [4.758424090682667, 5.758424090682667]],\n",
      " 'rep_delay_range': [0.0, 500.0],\n",
      " 'rep_times': [1000.0],\n",
      " 'sample_name': 'family: Falcon, revision: 4, segment: T',\n",
      " 'simulator': False,\n",
      " 'supported_features': ['qobj'],\n",
      " 'supported_instructions': ['reset',\n",
      "                            'setf',\n",
      "                            'u2',\n",
      "                            'acquire',\n",
      "                            'id',\n",
      "                            'rz',\n",
      "                            'play',\n",
      "                            'measure',\n",
      "                            'x',\n",
      "                            'delay',\n",
      "                            'shiftf',\n",
      "                            'u1',\n",
      "                            'sx',\n",
      "                            'u3',\n",
      "                            'cx'],\n",
      " 'timing_constraints': {'acquire_alignment': 16,\n",
      "                        'granularity': 16,\n",
      "                        'min_length': 64,\n",
      "                        'pulse_alignment': 1},\n",
      " 'u_channel_lo': [[{'q': 1, 'scale': (1+0j)}],\n",
      "                  [{'q': 0, 'scale': (1+0j)}],\n",
      "                  [{'q': 2, 'scale': (1+0j)}],\n",
      "                  [{'q': 3, 'scale': (1+0j)}],\n",
      "                  [{'q': 1, 'scale': (1+0j)}],\n",
      "                  [{'q': 1, 'scale': (1+0j)}],\n",
      "                  [{'q': 4, 'scale': (1+0j)}],\n",
      "                  [{'q': 3, 'scale': (1+0j)}]],\n",
      " 'uchannels_enabled': True,\n",
      " 'url': 'None'}\n"
     ]
    }
   ],
   "source": [
    "import pprint\n",
    "\n",
    "pprint.pprint(real_backend.configuration().to_dict())"
   ]
  },
  {
   "cell_type": "code",
   "execution_count": 18,
   "metadata": {
    "slideshow": {
     "slide_type": "subslide"
    }
   },
   "outputs": [],
   "source": [
    "from qiskit import execute\n",
    "real_job = execute(circuit, real_backend, shots=1024)"
   ]
  },
  {
   "cell_type": "markdown",
   "metadata": {
    "slideshow": {
     "slide_type": "slide"
    }
   },
   "source": [
    "## Jobs management"
   ]
  },
  {
   "cell_type": "code",
   "execution_count": 24,
   "metadata": {
    "slideshow": {
     "slide_type": "subslide"
    }
   },
   "outputs": [
    {
     "data": {
      "text/plain": [
       "'63754b41d849aa611a312444'"
      ]
     },
     "execution_count": 24,
     "metadata": {},
     "output_type": "execute_result"
    }
   ],
   "source": [
    "real_job_id=real_job.job_id()\n",
    "real_job_id"
   ]
  },
  {
   "cell_type": "code",
   "execution_count": 26,
   "metadata": {
    "slideshow": {
     "slide_type": "subslide"
    }
   },
   "outputs": [],
   "source": [
    "real_job.queue_position()"
   ]
  },
  {
   "cell_type": "code",
   "execution_count": 27,
   "metadata": {
    "slideshow": {
     "slide_type": "subslide"
    }
   },
   "outputs": [
    {
     "data": {
      "text/plain": [
       "<JobStatus.DONE: 'job has successfully run'>"
      ]
     },
     "execution_count": 27,
     "metadata": {},
     "output_type": "execute_result"
    }
   ],
   "source": [
    "real_job.status()"
   ]
  },
  {
   "cell_type": "markdown",
   "metadata": {
    "slideshow": {
     "slide_type": "fragment"
    }
   },
   "source": [
    "`<JobStatus.QUEUED: 'job is queued'>`\n",
    "\n",
    "`<JobStatus.RUNNING: 'job is actively running'>`\n",
    "\n",
    "`<JobStatus.DONE: 'job has successfully run'>`"
   ]
  },
  {
   "cell_type": "code",
   "execution_count": 28,
   "metadata": {
    "slideshow": {
     "slide_type": "subslide"
    }
   },
   "outputs": [
    {
     "name": "stdout",
     "output_type": "stream",
     "text": [
      "63754b41d849aa611a312444   2022-11-16 21:42:41.302000+01:00   JobStatus.DONE\n",
      "628624a8e7e2a7d0fc67eefd   2022-05-19 13:06:16.357000+02:00   JobStatus.DONE\n",
      "62840b7ee613280e0db0223f   2022-05-17 22:54:22.560000+02:00   JobStatus.DONE\n",
      "62840b53e7e2a76b3a67e44a   2022-05-17 22:53:39.899000+02:00   JobStatus.DONE\n",
      "622a6d58a96c2a61e9a03b5a   2022-03-10 22:27:52.013000+01:00   JobStatus.DONE\n",
      "6224cf3787f7024f7f5498cf   2022-03-06 16:11:51.808000+01:00   JobStatus.DONE\n",
      "618ecf0dcd15645928eb6145   2021-11-12 21:31:09.610000+01:00   JobStatus.DONE\n",
      "618531aa4ba990e8a18fe5b9   2021-11-05 14:29:14.409000+01:00   JobStatus.DONE\n",
      "60f1ec64a56daa4c20baf730   2021-07-16 22:30:28.308000+02:00   JobStatus.DONE\n",
      "60f1ebbe3d8e69479d1bc4b0   2021-07-16 22:27:42.165000+02:00   JobStatus.DONE\n"
     ]
    }
   ],
   "source": [
    "for job in real_backend.jobs():\n",
    "    print(str(job.job_id()) + \"   \" + str(job.creation_date()) + \"   \" + str(job.status()))"
   ]
  },
  {
   "cell_type": "code",
   "execution_count": 29,
   "metadata": {
    "slideshow": {
     "slide_type": "subslide"
    }
   },
   "outputs": [],
   "source": [
    "real_result = real_backend.retrieve_job(real_job_id).result()"
   ]
  },
  {
   "cell_type": "code",
   "execution_count": 30,
   "metadata": {
    "slideshow": {
     "slide_type": "slide"
    }
   },
   "outputs": [],
   "source": [
    "real_counts = real_result.get_counts()"
   ]
  },
  {
   "cell_type": "code",
   "execution_count": 31,
   "metadata": {
    "slideshow": {
     "slide_type": "subslide"
    }
   },
   "outputs": [
    {
     "data": {
      "image/png": "[encoded data removed]",
      "text/plain": [
       "<Figure size 504x360 with 1 Axes>"
      ]
     },
     "execution_count": 31,
     "metadata": {},
     "output_type": "execute_result"
    }
   ],
   "source": [
    "plot_histogram(real_counts)"
   ]
  },
  {
   "cell_type": "code",
   "execution_count": 32,
   "metadata": {
    "slideshow": {
     "slide_type": "subslide"
    }
   },
   "outputs": [
    {
     "data": {
      "image/png": "[encoded data removed]",
      "text/plain": [
       "<Figure size 504x360 with 1 Axes>"
      ]
     },
     "execution_count": 32,
     "metadata": {},
     "output_type": "execute_result"
    }
   ],
   "source": [
    "plot_histogram([real_counts, counts], legend=[\"Real backend\", \"Simulator\"])"
   ]
  },
  {
   "cell_type": "markdown",
   "metadata": {
    "slideshow": {
     "slide_type": "slide"
    }
   },
   "source": [
    "You can execute an array of circuits with one job...to wait in the queue only once ;)\n",
    "\n",
    "`circuit1 = QuantumCircuit(...)\n",
    "...\n",
    "circuit2 = QuantumCircuit(...)\n",
    "...\n",
    "job = execute([circuit1, circuit2], backend=real_backend)`"
   ]
  },
  {
   "cell_type": "code",
   "execution_count": 33,
   "metadata": {
    "slideshow": {
     "slide_type": "slide"
    }
   },
   "outputs": [],
   "source": [
    "from qiskit import execute\n",
    "real_job = execute(circuit, real_backend, shots=1024)"
   ]
  },
  {
   "cell_type": "code",
   "execution_count": 34,
   "metadata": {
    "slideshow": {
     "slide_type": "subslide"
    }
   },
   "outputs": [
    {
     "name": "stdout",
     "output_type": "stream",
     "text": [
      "Job Status: job has successfully run\n"
     ]
    }
   ],
   "source": [
    "from qiskit.tools.monitor import job_monitor\n",
    "job_monitor(real_job, interval=5)"
   ]
  },
  {
   "cell_type": "markdown",
   "metadata": {
    "slideshow": {
     "slide_type": "slide"
    }
   },
   "source": [
    "## Exercise 2.5 - random numbers generator\n",
    "Generate 100 random numbers from 0 to 127 using quantum computer."
   ]
  },
  {
   "cell_type": "markdown",
   "metadata": {
    "slideshow": {
     "slide_type": "slide"
    }
   },
   "source": [
    "# HOMEWORK"
   ]
  },
  {
   "cell_type": "markdown",
   "metadata": {
    "slideshow": {
     "slide_type": "fragment"
    }
   },
   "source": [
    "## Homework 1\n",
    "\n",
    "Write qiskit circuit introducing the superposition of the binary representation of first letters of your name and surname.\n",
    "\n",
    "Write Matplotlib plot visualizing the result.\n",
    "\n",
    "Do the visualization when run on simulator.\n",
    "Then run on real hardware limiting to 5 qubits and adding fixed constant qubits later on.\n",
    "\n",
    "**Send this to me at Tomasz.Stopa@pl.ibm.com BEFORE the next meeting.**\n"
   ]
  },
  {
   "cell_type": "code",
   "execution_count": 14,
   "metadata": {
    "scrolled": true,
    "slideshow": {
     "slide_type": "fragment"
    }
   },
   "outputs": [
    {
     "data": {
      "image/png": "[encoded data removed]",
      "text/plain": [
       "<Figure size 432x288 with 1 Axes>"
      ]
     },
     "metadata": {
      "needs_background": "light"
     },
     "output_type": "display_data"
    }
   ],
   "source": [
    "# Hint:\n",
    "\n",
    "import matplotlib.pyplot as plt\n",
    "plt.rc('font', family='monospace')\n",
    "plt.annotate('Rabbit', (0.5,0.5), va=\"center\", ha=\"center\", color = (0,0,0,0.1), size = 300)\n",
    "plt.annotate('Duck', (0.5,0.5), va=\"center\", ha=\"center\", color = (0,0,0,0.8), size = 300)\n",
    "plt.axis('off')\n",
    "plt.show()"
   ]
  },
  {
   "cell_type": "markdown",
   "metadata": {},
   "source": [
    "# Homework 2\n",
    "\n",
    "Get familiar with announcements from Quantum Summit last week: https://newsroom.ibm.com/2022-11-09-IBM-Unveils-400-Qubit-Plus-Quantum-Processor-and-Next-Generation-IBM-Quantum-System-Two"
   ]
  }
 ],
 "metadata": {
  "celltoolbar": "Slideshow",
  "kernelspec": {
   "display_name": "Python 3 (ipykernel)",
   "language": "python",
   "name": "python3"
  },
  "language_info": {
   "codemirror_mode": {
    "name": "ipython",
    "version": 3
   },
   "file_extension": ".py",
   "mimetype": "text/x-python",
   "name": "python",
   "nbconvert_exporter": "python",
   "pygments_lexer": "ipython3",
   "version": "3.11.4"
  },
  "rise": {
   "enable_chalkboard": true,
   "scroll": true
  }
 },
 "nbformat": 4,
 "nbformat_minor": 2
}
